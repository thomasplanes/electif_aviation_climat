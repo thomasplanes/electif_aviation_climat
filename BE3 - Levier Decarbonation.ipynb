{
 "cells": [
  {
   "cell_type": "markdown",
   "metadata": {},
   "source": [
    "# Partie 3 : Réglages pour le levier \"Décarbonation du carburant\"\n",
    "<a id=\"10\"></a>\n"
   ]
  },
  {
   "cell_type": "markdown",
   "metadata": {},
   "source": [
    "# Calculs préliminaires"
   ]
  },
  {
   "cell_type": "code",
   "execution_count": 1,
   "metadata": {},
   "outputs": [],
   "source": [
    "import numpy as np\n",
    "import matplotlib.pyplot as plt\n",
    "import pandas as pd\n",
    "\n",
    "# https://www.iea.org/sankey/#?c=World&s=Final%20consumption\n",
    "E_primaire_aviation_2019 = (8641+5817)/1000 # EJ"
   ]
  },
  {
   "cell_type": "markdown",
   "metadata": {},
   "source": [
    "# Première partie : mix électrique et facteur d'émission\n",
    "\n",
    "Allez récupérer sur our world in data les données d'évolution de la production électrique et nettoyez les données : sélectionnez le monde, après 1984, enlevez les deux premières colonnes et renommez les colonnes. Vous ajouterez aussi une colonne avec la somme.\n",
    "\n",
    "source : https://ourworldindata.org/grapher/electricity-prod-source-stacked"
   ]
  },
  {
   "cell_type": "code",
   "execution_count": 2,
   "metadata": {},
   "outputs": [
    {
     "data": {
      "text/html": [
       "<div>\n",
       "<style scoped>\n",
       "    .dataframe tbody tr th:only-of-type {\n",
       "        vertical-align: middle;\n",
       "    }\n",
       "\n",
       "    .dataframe tbody tr th {\n",
       "        vertical-align: top;\n",
       "    }\n",
       "\n",
       "    .dataframe thead th {\n",
       "        text-align: right;\n",
       "    }\n",
       "</style>\n",
       "<table border=\"1\" class=\"dataframe\">\n",
       "  <thead>\n",
       "    <tr style=\"text-align: right;\">\n",
       "      <th></th>\n",
       "      <th>annee</th>\n",
       "      <th>charbon</th>\n",
       "      <th>gaz</th>\n",
       "      <th>hydro</th>\n",
       "      <th>autre</th>\n",
       "      <th>pv</th>\n",
       "      <th>petrole</th>\n",
       "      <th>eolien</th>\n",
       "      <th>nucleaire</th>\n",
       "    </tr>\n",
       "  </thead>\n",
       "  <tbody>\n",
       "    <tr>\n",
       "      <td>7316</td>\n",
       "      <td>1985</td>\n",
       "      <td>3747.634</td>\n",
       "      <td>1422.361</td>\n",
       "      <td>1979.775</td>\n",
       "      <td>77.792</td>\n",
       "      <td>0.012</td>\n",
       "      <td>1108.761</td>\n",
       "      <td>0.064</td>\n",
       "      <td>1488.922</td>\n",
       "    </tr>\n",
       "    <tr>\n",
       "      <td>7317</td>\n",
       "      <td>1986</td>\n",
       "      <td>3838.270</td>\n",
       "      <td>1428.758</td>\n",
       "      <td>2006.572</td>\n",
       "      <td>85.579</td>\n",
       "      <td>0.015</td>\n",
       "      <td>1166.249</td>\n",
       "      <td>0.139</td>\n",
       "      <td>1594.736</td>\n",
       "    </tr>\n",
       "    <tr>\n",
       "      <td>7318</td>\n",
       "      <td>1987</td>\n",
       "      <td>4057.283</td>\n",
       "      <td>1512.935</td>\n",
       "      <td>2033.706</td>\n",
       "      <td>91.643</td>\n",
       "      <td>0.011</td>\n",
       "      <td>1181.022</td>\n",
       "      <td>0.195</td>\n",
       "      <td>1734.733</td>\n",
       "    </tr>\n",
       "    <tr>\n",
       "      <td>7319</td>\n",
       "      <td>1988</td>\n",
       "      <td>4199.198</td>\n",
       "      <td>1536.549</td>\n",
       "      <td>2098.721</td>\n",
       "      <td>94.281</td>\n",
       "      <td>0.010</td>\n",
       "      <td>1254.288</td>\n",
       "      <td>0.332</td>\n",
       "      <td>1891.249</td>\n",
       "    </tr>\n",
       "    <tr>\n",
       "      <td>7320</td>\n",
       "      <td>1989</td>\n",
       "      <td>4377.118</td>\n",
       "      <td>1724.386</td>\n",
       "      <td>2087.571</td>\n",
       "      <td>104.348</td>\n",
       "      <td>0.262</td>\n",
       "      <td>1346.722</td>\n",
       "      <td>2.650</td>\n",
       "      <td>1945.011</td>\n",
       "    </tr>\n",
       "  </tbody>\n",
       "</table>\n",
       "</div>"
      ],
      "text/plain": [
       "      annee   charbon       gaz     hydro    autre     pv   petrole  eolien  \\\n",
       "7316   1985  3747.634  1422.361  1979.775   77.792  0.012  1108.761   0.064   \n",
       "7317   1986  3838.270  1428.758  2006.572   85.579  0.015  1166.249   0.139   \n",
       "7318   1987  4057.283  1512.935  2033.706   91.643  0.011  1181.022   0.195   \n",
       "7319   1988  4199.198  1536.549  2098.721   94.281  0.010  1254.288   0.332   \n",
       "7320   1989  4377.118  1724.386  2087.571  104.348  0.262  1346.722   2.650   \n",
       "\n",
       "      nucleaire  \n",
       "7316   1488.922  \n",
       "7317   1594.736  \n",
       "7318   1734.733  \n",
       "7319   1891.249  \n",
       "7320   1945.011  "
      ]
     },
     "execution_count": 2,
     "metadata": {},
     "output_type": "execute_result"
    }
   ],
   "source": [
    "evol_prod_elec = pd.read_csv(\"BE-decarbo/electricity-prod-source-stacked.csv\")\n",
    "evol_prod_elec = evol_prod_elec[(evol_prod_elec.Entity==\"World\") & (evol_prod_elec.Year>1984)]\n",
    "del evol_prod_elec['Entity']\n",
    "del evol_prod_elec['Code']\n",
    "source_elec = ['charbon','gaz','hydro','autre','pv','petrole','eolien','nucleaire']\n",
    "source_elec_bc = ['hydro','autre','pv','eolien','nucleaire']\n",
    "evol_prod_elec.columns = ['annee'] + source_elec\n",
    "evol_prod_elec.head()"
   ]
  },
  {
   "cell_type": "code",
   "execution_count": 3,
   "metadata": {},
   "outputs": [
    {
     "data": {
      "text/html": [
       "<div>\n",
       "<style scoped>\n",
       "    .dataframe tbody tr th:only-of-type {\n",
       "        vertical-align: middle;\n",
       "    }\n",
       "\n",
       "    .dataframe tbody tr th {\n",
       "        vertical-align: top;\n",
       "    }\n",
       "\n",
       "    .dataframe thead th {\n",
       "        text-align: right;\n",
       "    }\n",
       "</style>\n",
       "<table border=\"1\" class=\"dataframe\">\n",
       "  <thead>\n",
       "    <tr style=\"text-align: right;\">\n",
       "      <th></th>\n",
       "      <th>annee</th>\n",
       "      <th>charbon</th>\n",
       "      <th>gaz</th>\n",
       "      <th>hydro</th>\n",
       "      <th>autre</th>\n",
       "      <th>pv</th>\n",
       "      <th>petrole</th>\n",
       "      <th>eolien</th>\n",
       "      <th>nucleaire</th>\n",
       "      <th>total</th>\n",
       "      <th>total bc</th>\n",
       "      <th>prop charbon</th>\n",
       "      <th>prop gaz</th>\n",
       "      <th>prop hydro</th>\n",
       "      <th>prop autre</th>\n",
       "      <th>prop pv</th>\n",
       "      <th>prop petrole</th>\n",
       "      <th>prop eolien</th>\n",
       "      <th>prop nucleaire</th>\n",
       "    </tr>\n",
       "  </thead>\n",
       "  <tbody>\n",
       "    <tr>\n",
       "      <td>7316</td>\n",
       "      <td>1985</td>\n",
       "      <td>3747.634</td>\n",
       "      <td>1422.361</td>\n",
       "      <td>1979.775</td>\n",
       "      <td>77.792</td>\n",
       "      <td>0.012</td>\n",
       "      <td>1108.761</td>\n",
       "      <td>0.064</td>\n",
       "      <td>1488.922</td>\n",
       "      <td>9825.321</td>\n",
       "      <td>3546.565</td>\n",
       "      <td>0.381426</td>\n",
       "      <td>0.144765</td>\n",
       "      <td>0.201497</td>\n",
       "      <td>0.007918</td>\n",
       "      <td>1.221334e-06</td>\n",
       "      <td>0.112847</td>\n",
       "      <td>0.000007</td>\n",
       "      <td>0.151539</td>\n",
       "    </tr>\n",
       "    <tr>\n",
       "      <td>7317</td>\n",
       "      <td>1986</td>\n",
       "      <td>3838.270</td>\n",
       "      <td>1428.758</td>\n",
       "      <td>2006.572</td>\n",
       "      <td>85.579</td>\n",
       "      <td>0.015</td>\n",
       "      <td>1166.249</td>\n",
       "      <td>0.139</td>\n",
       "      <td>1594.736</td>\n",
       "      <td>10120.318</td>\n",
       "      <td>3687.041</td>\n",
       "      <td>0.379264</td>\n",
       "      <td>0.141177</td>\n",
       "      <td>0.198272</td>\n",
       "      <td>0.008456</td>\n",
       "      <td>1.482167e-06</td>\n",
       "      <td>0.115238</td>\n",
       "      <td>0.000014</td>\n",
       "      <td>0.157578</td>\n",
       "    </tr>\n",
       "    <tr>\n",
       "      <td>7318</td>\n",
       "      <td>1987</td>\n",
       "      <td>4057.283</td>\n",
       "      <td>1512.935</td>\n",
       "      <td>2033.706</td>\n",
       "      <td>91.643</td>\n",
       "      <td>0.011</td>\n",
       "      <td>1181.022</td>\n",
       "      <td>0.195</td>\n",
       "      <td>1734.733</td>\n",
       "      <td>10611.528</td>\n",
       "      <td>3860.288</td>\n",
       "      <td>0.382347</td>\n",
       "      <td>0.142575</td>\n",
       "      <td>0.191651</td>\n",
       "      <td>0.008636</td>\n",
       "      <td>1.036608e-06</td>\n",
       "      <td>0.111296</td>\n",
       "      <td>0.000018</td>\n",
       "      <td>0.163476</td>\n",
       "    </tr>\n",
       "    <tr>\n",
       "      <td>7319</td>\n",
       "      <td>1988</td>\n",
       "      <td>4199.198</td>\n",
       "      <td>1536.549</td>\n",
       "      <td>2098.721</td>\n",
       "      <td>94.281</td>\n",
       "      <td>0.010</td>\n",
       "      <td>1254.288</td>\n",
       "      <td>0.332</td>\n",
       "      <td>1891.249</td>\n",
       "      <td>11074.628</td>\n",
       "      <td>4084.593</td>\n",
       "      <td>0.379173</td>\n",
       "      <td>0.138745</td>\n",
       "      <td>0.189507</td>\n",
       "      <td>0.008513</td>\n",
       "      <td>9.029649e-07</td>\n",
       "      <td>0.113258</td>\n",
       "      <td>0.000030</td>\n",
       "      <td>0.170773</td>\n",
       "    </tr>\n",
       "    <tr>\n",
       "      <td>7320</td>\n",
       "      <td>1989</td>\n",
       "      <td>4377.118</td>\n",
       "      <td>1724.386</td>\n",
       "      <td>2087.571</td>\n",
       "      <td>104.348</td>\n",
       "      <td>0.262</td>\n",
       "      <td>1346.722</td>\n",
       "      <td>2.650</td>\n",
       "      <td>1945.011</td>\n",
       "      <td>11588.068</td>\n",
       "      <td>4139.842</td>\n",
       "      <td>0.377726</td>\n",
       "      <td>0.148807</td>\n",
       "      <td>0.180148</td>\n",
       "      <td>0.009005</td>\n",
       "      <td>2.260946e-05</td>\n",
       "      <td>0.116216</td>\n",
       "      <td>0.000229</td>\n",
       "      <td>0.167846</td>\n",
       "    </tr>\n",
       "  </tbody>\n",
       "</table>\n",
       "</div>"
      ],
      "text/plain": [
       "      annee   charbon       gaz     hydro    autre     pv   petrole  eolien  \\\n",
       "7316   1985  3747.634  1422.361  1979.775   77.792  0.012  1108.761   0.064   \n",
       "7317   1986  3838.270  1428.758  2006.572   85.579  0.015  1166.249   0.139   \n",
       "7318   1987  4057.283  1512.935  2033.706   91.643  0.011  1181.022   0.195   \n",
       "7319   1988  4199.198  1536.549  2098.721   94.281  0.010  1254.288   0.332   \n",
       "7320   1989  4377.118  1724.386  2087.571  104.348  0.262  1346.722   2.650   \n",
       "\n",
       "      nucleaire      total  total bc  prop charbon  prop gaz  prop hydro  \\\n",
       "7316   1488.922   9825.321  3546.565      0.381426  0.144765    0.201497   \n",
       "7317   1594.736  10120.318  3687.041      0.379264  0.141177    0.198272   \n",
       "7318   1734.733  10611.528  3860.288      0.382347  0.142575    0.191651   \n",
       "7319   1891.249  11074.628  4084.593      0.379173  0.138745    0.189507   \n",
       "7320   1945.011  11588.068  4139.842      0.377726  0.148807    0.180148   \n",
       "\n",
       "      prop autre       prop pv  prop petrole  prop eolien  prop nucleaire  \n",
       "7316    0.007918  1.221334e-06      0.112847     0.000007        0.151539  \n",
       "7317    0.008456  1.482167e-06      0.115238     0.000014        0.157578  \n",
       "7318    0.008636  1.036608e-06      0.111296     0.000018        0.163476  \n",
       "7319    0.008513  9.029649e-07      0.113258     0.000030        0.170773  \n",
       "7320    0.009005  2.260946e-05      0.116216     0.000229        0.167846  "
      ]
     },
     "execution_count": 3,
     "metadata": {},
     "output_type": "execute_result"
    }
   ],
   "source": [
    "evol_prod_elec['total'] = evol_prod_elec.iloc[:,1:].sum(axis=1)\n",
    "evol_prod_elec['total bc'] = evol_prod_elec[source_elec_bc].sum(axis=1)\n",
    "for s in source_elec:\n",
    "    name = 'prop '+s\n",
    "    evol_prod_elec[name] = evol_prod_elec[s]/evol_prod_elec['total']\n",
    "evol_prod_elec.head()"
   ]
  },
  {
   "cell_type": "markdown",
   "metadata": {},
   "source": [
    "Allez récupérer sur our world in data les données d'évolution du mix électrique et tracez son évolution.\n",
    "\n",
    "source : https://ourworldindata.org/grapher/share-elec-by-source"
   ]
  },
  {
   "cell_type": "code",
   "execution_count": 4,
   "metadata": {},
   "outputs": [
    {
     "data": {
      "image/png": "[encoded data removed]",
      "text/plain": [
       "<Figure size 432x288 with 1 Axes>"
      ]
     },
     "metadata": {
      "needs_background": "light"
     },
     "output_type": "display_data"
    }
   ],
   "source": [
    "for s in source_elec:\n",
    "    plt.plot(evol_prod_elec['annee'], evol_prod_elec[s],label=s)\n",
    "plt.legend()\n",
    "plt.show()"
   ]
  },
  {
   "cell_type": "markdown",
   "metadata": {},
   "source": [
    "Allez récupérer dans le 5ème rapport d'évaluation du GIEC les données concernant les facteurs d'émission des différentes sources d'électricité.\n",
    "\n",
    "source : https://www.ipcc.ch/site/assets/uploads/2018/02/ipcc_wg3_ar5_annex-iii.pdf"
   ]
  },
  {
   "cell_type": "code",
   "execution_count": 5,
   "metadata": {},
   "outputs": [],
   "source": [
    "# valeurs des facteurs d'émission en ??\n",
    "source_elec = ['charbon','gaz','hydro','autre','pv','petrole','eolien','nucleaire']\n",
    "facteurs_emission = pd.DataFrame({'source':source_elec,'valeur':[1,2,3,4,5,6,7,8]})"
   ]
  },
  {
   "cell_type": "markdown",
   "metadata": {},
   "source": [
    "En supposant que les facteurs d'émission sont restés constants, tracez l'évolution des émissions de CO2 et du facteur d'émission au cours du temps."
   ]
  },
  {
   "cell_type": "code",
   "execution_count": 18,
   "metadata": {},
   "outputs": [
    {
     "name": "stdout",
     "output_type": "stream",
     "text": [
      "(36, 8)\n",
      "(8,)\n"
     ]
    },
    {
     "ename": "ValueError",
     "evalue": "matrices are not aligned",
     "output_type": "error",
     "traceback": [
      "\u001b[0;31m---------------------------------------------------------------------------\u001b[0m",
      "\u001b[0;31mValueError\u001b[0m                                Traceback (most recent call last)",
      "\u001b[0;32m<ipython-input-18-ee7c4320b14d>\u001b[0m in \u001b[0;36m<module>\u001b[0;34m\u001b[0m\n\u001b[1;32m      4\u001b[0m \u001b[0mprint\u001b[0m\u001b[0;34m(\u001b[0m\u001b[0mx\u001b[0m\u001b[0;34m.\u001b[0m\u001b[0mshape\u001b[0m\u001b[0;34m)\u001b[0m\u001b[0;34m\u001b[0m\u001b[0;34m\u001b[0m\u001b[0m\n\u001b[1;32m      5\u001b[0m \u001b[0mprint\u001b[0m\u001b[0;34m(\u001b[0m\u001b[0my\u001b[0m\u001b[0;34m.\u001b[0m\u001b[0mshape\u001b[0m\u001b[0;34m)\u001b[0m\u001b[0;34m\u001b[0m\u001b[0;34m\u001b[0m\u001b[0m\n\u001b[0;32m----> 6\u001b[0;31m \u001b[0mprint\u001b[0m\u001b[0;34m(\u001b[0m\u001b[0mx\u001b[0m\u001b[0;34m.\u001b[0m\u001b[0mdot\u001b[0m\u001b[0;34m(\u001b[0m\u001b[0my\u001b[0m\u001b[0;34m)\u001b[0m\u001b[0;34m)\u001b[0m\u001b[0;34m\u001b[0m\u001b[0;34m\u001b[0m\u001b[0m\n\u001b[0m\u001b[1;32m      7\u001b[0m \u001b[0mx\u001b[0m \u001b[0;34m=\u001b[0m \u001b[0mx\u001b[0m\u001b[0;34m.\u001b[0m\u001b[0mto_numpy\u001b[0m\u001b[0;34m(\u001b[0m\u001b[0;34m)\u001b[0m\u001b[0;34m\u001b[0m\u001b[0;34m\u001b[0m\u001b[0m\n\u001b[1;32m      8\u001b[0m \u001b[0my\u001b[0m \u001b[0;34m=\u001b[0m \u001b[0my\u001b[0m\u001b[0;34m.\u001b[0m\u001b[0mto_numpy\u001b[0m\u001b[0;34m(\u001b[0m\u001b[0;34m)\u001b[0m\u001b[0;34m\u001b[0m\u001b[0;34m\u001b[0m\u001b[0m\n",
      "\u001b[0;32m/Library/Frameworks/Python.framework/Versions/3.7/lib/python3.7/site-packages/pandas/core/frame.py\u001b[0m in \u001b[0;36mdot\u001b[0;34m(self, other)\u001b[0m\n\u001b[1;32m   1061\u001b[0m             \u001b[0mcommon\u001b[0m \u001b[0;34m=\u001b[0m \u001b[0mself\u001b[0m\u001b[0;34m.\u001b[0m\u001b[0mcolumns\u001b[0m\u001b[0;34m.\u001b[0m\u001b[0munion\u001b[0m\u001b[0;34m(\u001b[0m\u001b[0mother\u001b[0m\u001b[0;34m.\u001b[0m\u001b[0mindex\u001b[0m\u001b[0;34m)\u001b[0m\u001b[0;34m\u001b[0m\u001b[0;34m\u001b[0m\u001b[0m\n\u001b[1;32m   1062\u001b[0m             \u001b[0;32mif\u001b[0m \u001b[0mlen\u001b[0m\u001b[0;34m(\u001b[0m\u001b[0mcommon\u001b[0m\u001b[0;34m)\u001b[0m \u001b[0;34m>\u001b[0m \u001b[0mlen\u001b[0m\u001b[0;34m(\u001b[0m\u001b[0mself\u001b[0m\u001b[0;34m.\u001b[0m\u001b[0mcolumns\u001b[0m\u001b[0;34m)\u001b[0m \u001b[0;32mor\u001b[0m \u001b[0mlen\u001b[0m\u001b[0;34m(\u001b[0m\u001b[0mcommon\u001b[0m\u001b[0;34m)\u001b[0m \u001b[0;34m>\u001b[0m \u001b[0mlen\u001b[0m\u001b[0;34m(\u001b[0m\u001b[0mother\u001b[0m\u001b[0;34m.\u001b[0m\u001b[0mindex\u001b[0m\u001b[0;34m)\u001b[0m\u001b[0;34m:\u001b[0m\u001b[0;34m\u001b[0m\u001b[0;34m\u001b[0m\u001b[0m\n\u001b[0;32m-> 1063\u001b[0;31m                 \u001b[0;32mraise\u001b[0m \u001b[0mValueError\u001b[0m\u001b[0;34m(\u001b[0m\u001b[0;34m\"matrices are not aligned\"\u001b[0m\u001b[0;34m)\u001b[0m\u001b[0;34m\u001b[0m\u001b[0;34m\u001b[0m\u001b[0m\n\u001b[0m\u001b[1;32m   1064\u001b[0m \u001b[0;34m\u001b[0m\u001b[0m\n\u001b[1;32m   1065\u001b[0m             \u001b[0mleft\u001b[0m \u001b[0;34m=\u001b[0m \u001b[0mself\u001b[0m\u001b[0;34m.\u001b[0m\u001b[0mreindex\u001b[0m\u001b[0;34m(\u001b[0m\u001b[0mcolumns\u001b[0m\u001b[0;34m=\u001b[0m\u001b[0mcommon\u001b[0m\u001b[0;34m,\u001b[0m \u001b[0mcopy\u001b[0m\u001b[0;34m=\u001b[0m\u001b[0;32mFalse\u001b[0m\u001b[0;34m)\u001b[0m\u001b[0;34m\u001b[0m\u001b[0;34m\u001b[0m\u001b[0m\n",
      "\u001b[0;31mValueError\u001b[0m: matrices are not aligned"
     ]
    }
   ],
   "source": [
    "# pour tracer l'évolution du facteur d'émission il faudrait faire un produit matriciel\n",
    "x = evol_prod_elec[source_elec]\n",
    "y = facteurs_emission.iloc[:,1]\n",
    "print(x.shape)\n",
    "print(y.shape)\n",
    "print(x.dot(y))\n",
    "x = x.to_numpy()\n",
    "y = y.to_numpy()\n",
    "print(x.shape)\n",
    "print(y.shape)\n",
    "print(x.dot(y))\n",
    "\n",
    "# evol_prod_elec['CO2'] = pd.DataFrame(data=x.dot(y), columns=[\"CO2\"])\n",
    "# evol_prod_elec.head()\n",
    "# fe_elec_2020 = 1 # gCO2/MJ"
   ]
  },
  {
   "cell_type": "markdown",
   "metadata": {},
   "source": [
    "Dans le reste, on parle de mix \"bas carbone\" pour désigner l'électricité produite à partir d'énergies renouvelables (PV, éolien, hydro) ou de nucléaire.\n",
    "\n",
    "Reprenez toutes les questions ci-dessus mais uniquement pour l'électricité bas carbone."
   ]
  },
  {
   "cell_type": "code",
   "execution_count": null,
   "metadata": {},
   "outputs": [],
   "source": [
    "evol_prod_elec_bc = pd.read_csv(\"BE-decarbo/electricity-prod-source-stacked.csv\")\n",
    "evol_prod_elec_bc = evol_prod_elec_bc[(evol_prod_elec_bc.Entity==\"World\") & (evol_prod_elec_bc.Year>1984)]\n",
    "del evol_prod_elec_bc['Entity']\n",
    "del evol_prod_elec_bc['Code']\n",
    "evol_prod_elec_bc.columns = ['annee'] + source_elec\n",
    "del evol_prod_elec_bc['charbon']\n",
    "del evol_prod_elec_bc['gaz']\n",
    "del evol_prod_elec_bc['petrole']\n",
    "evol_prod_elec_bc.head()\n",
    "\n",
    "evol_prod_elec_bc['total'] = evol_prod_elec_bc.iloc[:,1:].sum(axis=1)\n",
    "source_elec_bc = ['hydro','autre','pv','eolien','nucleaire']\n",
    "for s in source_elec_bc:\n",
    "    name = 'prop '+s\n",
    "    evol_prod_elec_bc[name] = evol_prod_elec_bc[s]/evol_prod_elec_bc['total']\n",
    "    plt.plot(evol_prod_elec_bc['annee'], evol_prod_elec_bc[name], label=s)\n",
    "evol_prod_elec_bc.head()\n",
    "plt.legend()\n",
    "plt.show()\n"
   ]
  },
  {
   "cell_type": "markdown",
   "metadata": {},
   "source": [
    "# Deuxième partie : avion tout électrique\n",
    "\n",
    "Gnadt et al étudient un avion tout électrique de 180 places. Nous prendrons leurs valeurs :\n",
    "- perte entre la production d'électricité et l'énergie embarquée : ~25%\n",
    "- besoin en énergie embarquée par rapport à un avion conventionnel : +60%\n",
    "\n",
    "Imaginons que tous les avions deviennent des avions tout électrique et que les besoins en énergie augmentent dans les proportions ci-dessus.\n",
    "\n",
    "1. Combien d'électricité faudrait-il **produire** ? Comparez cette valeur à la quantité d'électricité totale, et la quantité d'électricité bas carbone."
   ]
  },
  {
   "cell_type": "code",
   "execution_count": null,
   "metadata": {},
   "outputs": [],
   "source": []
  },
  {
   "cell_type": "markdown",
   "metadata": {},
   "source": [
    "2. Avec le mix électrique mondial actuel, quelle serait l'évolution des émissions de CO2 ? et avec un mix électrique bas carbone ? Commentez les résultats obtenus."
   ]
  },
  {
   "cell_type": "code",
   "execution_count": null,
   "metadata": {},
   "outputs": [],
   "source": []
  },
  {
   "cell_type": "markdown",
   "metadata": {},
   "source": [
    "3. Quelle devrait être la valeur du mix électrique mondial pour que cette solution devienne intéressante ? Suivant les prévisions de XXX, à quelle date devrait-on atteindre une telle valeur ?\n",
    "\n",
    "source : gnadt et al"
   ]
  },
  {
   "cell_type": "code",
   "execution_count": null,
   "metadata": {},
   "outputs": [],
   "source": []
  },
  {
   "cell_type": "markdown",
   "metadata": {},
   "source": [
    "# Troisième partie : avion à hydrogène\n",
    "\n",
    "Comme pour l'avion tout électrique, on imagine que tous les avions sont instantanément remplacés par des avions à hydrogène et on cherche à comprendre l'impact sur l'énergie et les émissions. De nombreuses données sont disponibles dans le rapport \"Global Hydrogen Review 2021\" de l'AIE sur l'hydrogène.\n",
    "\n",
    "https://iea.blob.core.windows.net/assets/5bd46d7b-906a-4429-abda-e9c507a62341/GlobalHydrogenReview2021.pdf\n",
    "\n",
    "### 3.1 Analyse préliminaire\n",
    "\n",
    "Le tableau suivant présente plusieurs.\n",
    "1. Choisissez et justifiez **une seule** valeur d'évolution du besoin en énergie embarquée, que vous utiliserez par la suite."
   ]
  },
  {
   "cell_type": "code",
   "execution_count": null,
   "metadata": {},
   "outputs": [],
   "source": [
    "evol_efficacite_H2 = pd.read_csv(\"BE-decarbo/evol_efficacite_H2.csv\")\n",
    "evol_efficacite_H2.head()"
   ]
  },
  {
   "cell_type": "code",
   "execution_count": null,
   "metadata": {},
   "outputs": [],
   "source": [
    "scenario_H2_besoin_energie_embarquee = E_primaire_aviation_2019"
   ]
  },
  {
   "cell_type": "markdown",
   "metadata": {},
   "source": [
    "Trouvez la valeur du PCI de l'hydrogène ainsi que l'énergie nécessaire pour sa liquéfaction (pour la liquéfaction, cf partie \"\" du rapport de l'AIE). Déduisez-en la quantité d'énergie supplémentaire à utiliser pour alimenter la flotte mondiale en hydrogène liquide."
   ]
  },
  {
   "cell_type": "code",
   "execution_count": null,
   "metadata": {},
   "outputs": [],
   "source": [
    "PCI_H2 = 119.96 # MJH2/kgH2\n",
    "energie_liquefaction = PCI_H2/3 # MJ/kgH2\n",
    "energie_liquefaction_2 = energie_liquefaction / PCI_H2 * scenario_H2_besoin_energie_embarquee"
   ]
  },
  {
   "cell_type": "markdown",
   "metadata": {},
   "source": [
    "### 3.2 Méthodes de production actuelles\n",
    "\n",
    "\n",
    "Dans la partie \"Hydrogen supply\", faites une estimation du facteur d'émission de l'hydrogène."
   ]
  },
  {
   "cell_type": "code",
   "execution_count": null,
   "metadata": {},
   "outputs": [],
   "source": [
    "prod_H2_total = 90 # MtH2\n",
    "prod_H2_emissions_CO2 = 900 # MtCO2\n",
    "prod_H2_fe = prod_H2_emissions_CO2/prod_H2_total #kgCO2/kgH2\n",
    "print(prod_H2_fe)"
   ]
  },
  {
   "cell_type": "markdown",
   "metadata": {},
   "source": [
    "Retrouvez cette valeur à partir des valeurs indiquées pour le facteur d'émission à partir du gaz naturel et du charbon."
   ]
  },
  {
   "cell_type": "code",
   "execution_count": null,
   "metadata": {},
   "outputs": [],
   "source": [
    "prod_H2_prop_gaz = 0.59\n",
    "prod_H2_fe_gaz = 11.7 # kgCO2/kgH2\n",
    "prod_H2_prop_charbon = 0.19\n",
    "prod_H2_fe_charbon = 20 # kgCO2/kgH2\n",
    "print(prod_H2_prop_gaz*prod_H2_fe_gaz + prod_H2_prop_charbon*prod_H2_fe_charbon)\n",
    "# print(prod_H2_total*prod_H2_prop_gaz*prod_H2_fe_gaz + prod_H2_total*prod_H2_prop_charbon*prod_H2_fe_charbon)"
   ]
  },
  {
   "cell_type": "markdown",
   "metadata": {},
   "source": [
    "En supposant que tous les avions actuels sont remplacés par des avions à hydrogène produit avec les méthodes actuelles de production et en utilisant le mix électrique actuel, calculez et commentez les émissions de CO2 correspondantes."
   ]
  },
  {
   "cell_type": "code",
   "execution_count": null,
   "metadata": {},
   "outputs": [],
   "source": [
    "scenario_H2_prod_actuelle_CO2 = 1"
   ]
  },
  {
   "cell_type": "markdown",
   "metadata": {},
   "source": [
    "### 3.3 Production par électrolyse\n",
    "\n",
    "On suppose maintenant que l'hydrogène est produit par électrolyse de l'eau, et on étudiera deux cas :\n",
    "1. le mix électrique actuel\n",
    "2. un mix électrique bas carbone\n",
    "\n",
    "On commence par étudier l'électrolyse.\n",
    "1. Trouver des valeurs de rendement de l'électrolyse."
   ]
  },
  {
   "cell_type": "code",
   "execution_count": null,
   "metadata": {},
   "outputs": [],
   "source": [
    "rendement_electrolyse_min = 1\n",
    "rendement_electrolyse_max = 1"
   ]
  },
  {
   "cell_type": "markdown",
   "metadata": {},
   "source": [
    "Calculez la quantité d'électricité produite nécessaire, et comparez-la à la quantité d'électricité produite actuellement, et à la quantité d'électricité produite de manière bas carbone."
   ]
  },
  {
   "cell_type": "code",
   "execution_count": null,
   "metadata": {},
   "outputs": [],
   "source": [
    "besoin_energie_primaire = 1"
   ]
  }
 ],
 "metadata": {
  "kernelspec": {
   "display_name": "Python 3",
   "language": "python",
   "name": "python3"
  },
  "language_info": {
   "codemirror_mode": {
    "name": "ipython",
    "version": 3
   },
   "file_extension": ".py",
   "mimetype": "text/x-python",
   "name": "python",
   "nbconvert_exporter": "python",
   "pygments_lexer": "ipython3",
   "version": "3.7.4"
  }
 },
 "nbformat": 4,
 "nbformat_minor": 5
}
