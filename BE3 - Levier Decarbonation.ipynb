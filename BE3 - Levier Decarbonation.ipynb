{
 "cells": [
  {
   "cell_type": "markdown",
   "id": "10205aea",
   "metadata": {},
   "source": [
    "# Partie 3 : Réglages pour le levier \"Décarbonation du carburant\"\n",
    "<a id=\"10\"></a>\n"
   ]
  },
  {
   "cell_type": "code",
   "execution_count": 1,
   "id": "b4c13dd0",
   "metadata": {},
   "outputs": [],
   "source": [
    "import numpy as np\n",
    "import matplotlib.pyplot as plt\n",
    "import pandas as pd"
   ]
  },
  {
   "cell_type": "markdown",
   "id": "e65ced51",
   "metadata": {},
   "source": [
    "---\n",
    "---\n",
    "# 1. Préliminaires\n",
    "\n",
    "## 1.1 Energie de l'aviation en 2019\n",
    "\n",
    "1. Allez chercher sur le [diagramme de Sankey de l'AIE](https://www.iea.org/sankey/#?c=World&s=Final%20consumption) la quantité d'énergie utilisée par le secteur aérien en 2019. Vous exprimerez votre résultat en EJ.\n",
    "\n",
    "> **Réponse**"
   ]
  },
  {
   "cell_type": "code",
   "execution_count": null,
   "id": "3535c0f8",
   "metadata": {},
   "outputs": [],
   "source": [
    "E_primaire_aviation_2019 = 14 # EJ"
   ]
  },
  {
   "cell_type": "markdown",
   "id": "96aa3fed",
   "metadata": {},
   "source": [
    "2. Calculez les émissions correspondantes, en incluant les émissions amont. Vous exprimerez votre résultat en MtCO2.\n",
    "\n",
    "> **Réponse**"
   ]
  },
  {
   "cell_type": "code",
   "execution_count": 2,
   "id": "60860e56",
   "metadata": {},
   "outputs": [],
   "source": [
    "CO2_aviation_2019 = 1000 # MtCO2"
   ]
  },
  {
   "cell_type": "markdown",
   "id": "9e6d3fcc",
   "metadata": {},
   "source": [
    "---\n",
    "\n",
    "## 1.2 Mix électrique et facteur d'émission\n",
    "\n",
    "Le fichier prod-elec.csv est une version nettoyée des [données de Our World In Data](https://ourworldindata.org/grapher/electricity-prod-source-stacked) qui donnent la quantité d'électricité en TWh produite par pays, par an et par \"matière première\". Ainsi, le fichier prod-elec.csv donne la production au niveau monde.\n",
    "\n",
    "1. Expliquez succinctement ce que fait chaque ligne de code ci-dessous.\n",
    "\n",
    "> **Réponse**"
   ]
  },
  {
   "cell_type": "code",
   "execution_count": 3,
   "id": "c5b289fd",
   "metadata": {},
   "outputs": [
    {
     "data": {
      "text/html": [
       "<div>\n",
       "<style scoped>\n",
       "    .dataframe tbody tr th:only-of-type {\n",
       "        vertical-align: middle;\n",
       "    }\n",
       "\n",
       "    .dataframe tbody tr th {\n",
       "        vertical-align: top;\n",
       "    }\n",
       "\n",
       "    .dataframe thead th {\n",
       "        text-align: right;\n",
       "    }\n",
       "</style>\n",
       "<table border=\"1\" class=\"dataframe\">\n",
       "  <thead>\n",
       "    <tr style=\"text-align: right;\">\n",
       "      <th></th>\n",
       "      <th>annee</th>\n",
       "      <th>charbon</th>\n",
       "      <th>gaz</th>\n",
       "      <th>hydro</th>\n",
       "      <th>autre</th>\n",
       "      <th>pv</th>\n",
       "      <th>petrole</th>\n",
       "      <th>eolien</th>\n",
       "      <th>nucleaire</th>\n",
       "      <th>total</th>\n",
       "      <th>total bc</th>\n",
       "      <th>prop charbon</th>\n",
       "      <th>prop gaz</th>\n",
       "      <th>prop hydro</th>\n",
       "      <th>prop autre</th>\n",
       "      <th>prop pv</th>\n",
       "      <th>prop petrole</th>\n",
       "      <th>prop eolien</th>\n",
       "      <th>prop nucleaire</th>\n",
       "    </tr>\n",
       "  </thead>\n",
       "  <tbody>\n",
       "    <tr>\n",
       "      <th>0</th>\n",
       "      <td>1985</td>\n",
       "      <td>13.491482</td>\n",
       "      <td>5.120500</td>\n",
       "      <td>7.127190</td>\n",
       "      <td>0.280051</td>\n",
       "      <td>0.000043</td>\n",
       "      <td>3.991540</td>\n",
       "      <td>0.000230</td>\n",
       "      <td>5.360119</td>\n",
       "      <td>35.371156</td>\n",
       "      <td>12.767634</td>\n",
       "      <td>0.381426</td>\n",
       "      <td>0.144765</td>\n",
       "      <td>0.201497</td>\n",
       "      <td>0.007918</td>\n",
       "      <td>1.221334e-06</td>\n",
       "      <td>0.112847</td>\n",
       "      <td>0.000007</td>\n",
       "      <td>0.151539</td>\n",
       "    </tr>\n",
       "    <tr>\n",
       "      <th>1</th>\n",
       "      <td>1986</td>\n",
       "      <td>13.817772</td>\n",
       "      <td>5.143529</td>\n",
       "      <td>7.223659</td>\n",
       "      <td>0.308084</td>\n",
       "      <td>0.000054</td>\n",
       "      <td>4.198496</td>\n",
       "      <td>0.000500</td>\n",
       "      <td>5.741050</td>\n",
       "      <td>36.433145</td>\n",
       "      <td>13.273348</td>\n",
       "      <td>0.379264</td>\n",
       "      <td>0.141177</td>\n",
       "      <td>0.198272</td>\n",
       "      <td>0.008456</td>\n",
       "      <td>1.482167e-06</td>\n",
       "      <td>0.115238</td>\n",
       "      <td>0.000014</td>\n",
       "      <td>0.157578</td>\n",
       "    </tr>\n",
       "    <tr>\n",
       "      <th>2</th>\n",
       "      <td>1987</td>\n",
       "      <td>14.606219</td>\n",
       "      <td>5.446566</td>\n",
       "      <td>7.321342</td>\n",
       "      <td>0.329915</td>\n",
       "      <td>0.000040</td>\n",
       "      <td>4.251679</td>\n",
       "      <td>0.000702</td>\n",
       "      <td>6.245039</td>\n",
       "      <td>38.201501</td>\n",
       "      <td>13.897037</td>\n",
       "      <td>0.382347</td>\n",
       "      <td>0.142575</td>\n",
       "      <td>0.191651</td>\n",
       "      <td>0.008636</td>\n",
       "      <td>1.036608e-06</td>\n",
       "      <td>0.111296</td>\n",
       "      <td>0.000018</td>\n",
       "      <td>0.163476</td>\n",
       "    </tr>\n",
       "    <tr>\n",
       "      <th>3</th>\n",
       "      <td>1988</td>\n",
       "      <td>15.117113</td>\n",
       "      <td>5.531576</td>\n",
       "      <td>7.555396</td>\n",
       "      <td>0.339412</td>\n",
       "      <td>0.000036</td>\n",
       "      <td>4.515437</td>\n",
       "      <td>0.001195</td>\n",
       "      <td>6.808496</td>\n",
       "      <td>39.868661</td>\n",
       "      <td>14.704535</td>\n",
       "      <td>0.379173</td>\n",
       "      <td>0.138745</td>\n",
       "      <td>0.189507</td>\n",
       "      <td>0.008513</td>\n",
       "      <td>9.029649e-07</td>\n",
       "      <td>0.113258</td>\n",
       "      <td>0.000030</td>\n",
       "      <td>0.170773</td>\n",
       "    </tr>\n",
       "    <tr>\n",
       "      <th>4</th>\n",
       "      <td>1989</td>\n",
       "      <td>15.757625</td>\n",
       "      <td>6.207790</td>\n",
       "      <td>7.515256</td>\n",
       "      <td>0.375653</td>\n",
       "      <td>0.000943</td>\n",
       "      <td>4.848199</td>\n",
       "      <td>0.009540</td>\n",
       "      <td>7.002040</td>\n",
       "      <td>41.717045</td>\n",
       "      <td>14.903431</td>\n",
       "      <td>0.377726</td>\n",
       "      <td>0.148807</td>\n",
       "      <td>0.180148</td>\n",
       "      <td>0.009005</td>\n",
       "      <td>2.260946e-05</td>\n",
       "      <td>0.116216</td>\n",
       "      <td>0.000229</td>\n",
       "      <td>0.167846</td>\n",
       "    </tr>\n",
       "  </tbody>\n",
       "</table>\n",
       "</div>"
      ],
      "text/plain": [
       "   annee    charbon       gaz     hydro     autre        pv   petrole  \\\n",
       "0   1985  13.491482  5.120500  7.127190  0.280051  0.000043  3.991540   \n",
       "1   1986  13.817772  5.143529  7.223659  0.308084  0.000054  4.198496   \n",
       "2   1987  14.606219  5.446566  7.321342  0.329915  0.000040  4.251679   \n",
       "3   1988  15.117113  5.531576  7.555396  0.339412  0.000036  4.515437   \n",
       "4   1989  15.757625  6.207790  7.515256  0.375653  0.000943  4.848199   \n",
       "\n",
       "     eolien  nucleaire      total   total bc  prop charbon  prop gaz  \\\n",
       "0  0.000230   5.360119  35.371156  12.767634      0.381426  0.144765   \n",
       "1  0.000500   5.741050  36.433145  13.273348      0.379264  0.141177   \n",
       "2  0.000702   6.245039  38.201501  13.897037      0.382347  0.142575   \n",
       "3  0.001195   6.808496  39.868661  14.704535      0.379173  0.138745   \n",
       "4  0.009540   7.002040  41.717045  14.903431      0.377726  0.148807   \n",
       "\n",
       "   prop hydro  prop autre       prop pv  prop petrole  prop eolien  \\\n",
       "0    0.201497    0.007918  1.221334e-06      0.112847     0.000007   \n",
       "1    0.198272    0.008456  1.482167e-06      0.115238     0.000014   \n",
       "2    0.191651    0.008636  1.036608e-06      0.111296     0.000018   \n",
       "3    0.189507    0.008513  9.029649e-07      0.113258     0.000030   \n",
       "4    0.180148    0.009005  2.260946e-05      0.116216     0.000229   \n",
       "\n",
       "   prop nucleaire  \n",
       "0        0.151539  \n",
       "1        0.157578  \n",
       "2        0.163476  \n",
       "3        0.170773  \n",
       "4        0.167846  "
      ]
     },
     "execution_count": 3,
     "metadata": {},
     "output_type": "execute_result"
    }
   ],
   "source": [
    "prod_elec = pd.read_csv(\"BE-decarbo/prod-elec.csv\")\n",
    "source_elec = ['charbon','gaz','hydro','autre','pv','petrole','eolien','nucleaire']\n",
    "prod_elec[source_elec] = prod_elec[source_elec] * 3.6/1000\n",
    "prod_elec['total'] = prod_elec[source_elec].sum(axis=1)\n",
    "source_elec_bc = ['hydro','autre','pv','eolien','nucleaire']\n",
    "prod_elec['total bc'] = prod_elec[source_elec_bc].sum(axis=1)\n",
    "for s in source_elec:\n",
    "    name = 'prop '+s\n",
    "    prod_elec[name] = prod_elec[s]/prod_elec['total']\n",
    "prod_elec.head()"
   ]
  },
  {
   "cell_type": "markdown",
   "id": "101e9066",
   "metadata": {},
   "source": [
    "2. Tracez l'évolution de la production électrique par source, et un deuxième graphe en se concentrant sur l'électricité bas carbone. Commentez les résultats.\n",
    "\n",
    "> **Réponse**"
   ]
  },
  {
   "cell_type": "code",
   "execution_count": 4,
   "id": "83c8ecd9",
   "metadata": {},
   "outputs": [
    {
     "data": {
      "image/png": "[encoded data removed]",
      "text/plain": [
       "<Figure size 432x288 with 1 Axes>"
      ]
     },
     "metadata": {
      "needs_background": "light"
     },
     "output_type": "display_data"
    },
    {
     "data": {
      "image/png": "[encoded data removed]",
      "text/plain": [
       "<Figure size 432x288 with 1 Axes>"
      ]
     },
     "metadata": {
      "needs_background": "light"
     },
     "output_type": "display_data"
    }
   ],
   "source": [
    "for s in source_elec:\n",
    "    plt.plot(prod_elec['annee'], prod_elec[s],label=s)\n",
    "plt.legend()\n",
    "plt.show()\n",
    "\n",
    "for s in source_elec:\n",
    "    plt.plot(prod_elec['annee'], prod_elec['prop '+s],label=s)\n",
    "plt.legend()\n",
    "plt.show()"
   ]
  },
  {
   "cell_type": "markdown",
   "id": "b4ac8b75",
   "metadata": {},
   "source": [
    "3. Récupérez dans le [5ème rapport d'évaluation du GIEC](https://www.ipcc.ch/site/assets/uploads/2018/02/ipcc_wg3_ar5_annex-iii.pdf) les données concernant les facteurs d'émission des différentes sources d'électricité (pour le pétrole vous prendrez 700 gCO2-eq/kWh)."
   ]
  },
  {
   "cell_type": "code",
   "execution_count": 5,
   "id": "ea8b067c",
   "metadata": {},
   "outputs": [
    {
     "data": {
      "text/html": [
       "<div>\n",
       "<style scoped>\n",
       "    .dataframe tbody tr th:only-of-type {\n",
       "        vertical-align: middle;\n",
       "    }\n",
       "\n",
       "    .dataframe tbody tr th {\n",
       "        vertical-align: top;\n",
       "    }\n",
       "\n",
       "    .dataframe thead th {\n",
       "        text-align: right;\n",
       "    }\n",
       "</style>\n",
       "<table border=\"1\" class=\"dataframe\">\n",
       "  <thead>\n",
       "    <tr style=\"text-align: right;\">\n",
       "      <th></th>\n",
       "      <th>charbon</th>\n",
       "      <th>gaz</th>\n",
       "      <th>hydro</th>\n",
       "      <th>autre</th>\n",
       "      <th>pv</th>\n",
       "      <th>petrole</th>\n",
       "      <th>eolien</th>\n",
       "      <th>nucleaire</th>\n",
       "    </tr>\n",
       "  </thead>\n",
       "  <tbody>\n",
       "    <tr>\n",
       "      <th>0</th>\n",
       "      <td>1000</td>\n",
       "      <td>400</td>\n",
       "      <td>20</td>\n",
       "      <td>50</td>\n",
       "      <td>40</td>\n",
       "      <td>700</td>\n",
       "      <td>12</td>\n",
       "      <td>10</td>\n",
       "    </tr>\n",
       "  </tbody>\n",
       "</table>\n",
       "</div>"
      ],
      "text/plain": [
       "   charbon  gaz  hydro  autre  pv  petrole  eolien  nucleaire\n",
       "0     1000  400     20     50  40      700      12         10"
      ]
     },
     "execution_count": 5,
     "metadata": {},
     "output_type": "execute_result"
    }
   ],
   "source": [
    "facteurs_emission = pd.DataFrame(data=[1000, 400, 20, 50, 40, 700, 12, 10])\n",
    "facteurs_emission.index = source_elec\n",
    "facteurs_emission = facteurs_emission.T\n",
    "facteurs_emission.head()"
   ]
  },
  {
   "cell_type": "markdown",
   "id": "5572587b",
   "metadata": {},
   "source": [
    "4. En supposant que les facteurs d'émission sont restés constants, tracez l'évolution des émissions de CO2 et du facteur d'émission au cours du temps et commentez les courbes obtenues.\n",
    "\n",
    "> **Réponse**"
   ]
  },
  {
   "cell_type": "code",
   "execution_count": 6,
   "id": "95492cd0",
   "metadata": {},
   "outputs": [
    {
     "data": {
      "image/png": "[encoded data removed]",
      "text/plain": [
       "<Figure size 432x288 with 1 Axes>"
      ]
     },
     "metadata": {
      "needs_background": "light"
     },
     "output_type": "display_data"
    },
    {
     "data": {
      "image/png": "[encoded data removed]",
      "text/plain": [
       "<Figure size 432x288 with 1 Axes>"
      ]
     },
     "metadata": {
      "needs_background": "light"
     },
     "output_type": "display_data"
    },
    {
     "data": {
      "image/png": "[encoded data removed]",
      "text/plain": [
       "<Figure size 432x288 with 1 Axes>"
      ]
     },
     "metadata": {
      "needs_background": "light"
     },
     "output_type": "display_data"
    }
   ],
   "source": [
    "prod_elec['CO2'] = prod_elec[source_elec].dot(facteurs_emission.T)\n",
    "prod_elec['fe'] = prod_elec['CO2']/prod_elec['total']\n",
    "prod_elec['CO2 bc'] = prod_elec[source_elec_bc].dot(facteurs_emission[source_elec_bc].T)\n",
    "prod_elec['fe bc'] = prod_elec['CO2 bc']/prod_elec['total bc']\n",
    "\n",
    "plt.plot(prod_elec['annee'], prod_elec['CO2'], label=\"Emissions CO2\")\n",
    "plt.plot(prod_elec['annee'], prod_elec['CO2 bc'], label=\"Emissions CO2 BC\")\n",
    "plt.legend()\n",
    "plt.show()\n",
    "\n",
    "plt.plot(prod_elec['annee'], prod_elec['fe'], label=\"Facteur emission\")\n",
    "plt.legend()\n",
    "plt.show()\n",
    "\n",
    "plt.plot(prod_elec['annee'], prod_elec['fe bc'], label=\"Facteur emission BC\")\n",
    "plt.legend()\n",
    "plt.show()"
   ]
  },
  {
   "cell_type": "markdown",
   "id": "2b3ac97e",
   "metadata": {},
   "source": [
    "Entre 2020 et 2050 on utilisera les données de l'IRENA.\n",
    "\n",
    "5. En vous inspirant des codes ci-dessus, rajoutez une colonne 'facteur emission 2018' et 'facteur emission 2050'"
   ]
  },
  {
   "cell_type": "code",
   "execution_count": null,
   "id": "8cb3f6da",
   "metadata": {},
   "outputs": [],
   "source": [
    "IRENA = pd.read_csv(\"BE-decarbo/IRENA.csv\")\n",
    "IRENA['facteur emission 2018'] = \n",
    "IRENA['facteur emission 2050'] = \n",
    "IRENA.head()"
   ]
  },
  {
   "cell_type": "markdown",
   "id": "5f9b18ff",
   "metadata": {},
   "source": [
    "La courbe suivante trace l'évolution du facteur d'émission avec une simple interpolation linéaire : nous nous en servirons dans la suite du BE."
   ]
  },
  {
   "cell_type": "code",
   "execution_count": null,
   "id": "20166a61",
   "metadata": {},
   "outputs": [],
   "source": [
    "PES = IRENA.loc[(IRENA['Scenario']=='Planned Energy Scenario')].iloc[:,-2:].T\n",
    "TES = IRENA.loc[(IRENA['Scenario']=='Transforming Energy Scenario')].iloc[:,-2:].T\n",
    "scenario_15 = IRENA.loc[(IRENA['Scenario']=='1.5OC Scenario')].iloc[:,-2:].T\n",
    "x=[2018,2050]\n",
    "plt.plot(x,PES,label='PES')\n",
    "plt.plot(x,TES,label='TES')\n",
    "plt.plot(x,scenario_15,label='1.5')\n",
    "plt.legend()\n",
    "plt.show()"
   ]
  },
  {
   "cell_type": "markdown",
   "id": "a018323b",
   "metadata": {},
   "source": [
    "---\n",
    "---\n",
    "# 2. Etude des nouveaux vecteurs énergétiques par rapport au contexte actuel"
   ]
  },
  {
   "cell_type": "markdown",
   "id": "11502931",
   "metadata": {},
   "source": [
    "---\n",
    "## 2.1 Avion à hydrogène\n",
    "\n",
    "Comme pour l'avion tout électrique, on imagine que tous les avions sont instantanément remplacés par des avions à hydrogène et on cherche à comprendre l'impact sur l'énergie et les émissions.\n",
    "\n",
    "### 2.1.1 Préliminaires : efficacité et liquéfaction\n",
    "\n",
    "\n",
    "\n",
    "1. Choisissez et justifiez succinctement **une seule** valeur d'évolution du besoin en énergie embarquée, que vous utiliserez par la suite (un choix subjectif est parfaitement acceptable).\n",
    "\n",
    "> **Réponse**"
   ]
  },
  {
   "cell_type": "code",
   "execution_count": null,
   "id": "b0b46365",
   "metadata": {},
   "outputs": [],
   "source": []
  },
  {
   "cell_type": "markdown",
   "id": "1ff7a112",
   "metadata": {},
   "source": [
    "2. Calculez la quantité d'hydrogène nécessaire pour alimenter l'intégralité de la flotte. Comparez par rapport à la production d'hydrogène en 2020 et commentez ce résultat."
   ]
  },
  {
   "cell_type": "code",
   "execution_count": null,
   "id": "1f727202",
   "metadata": {},
   "outputs": [],
   "source": []
  },
  {
   "cell_type": "markdown",
   "id": "0d51df9d",
   "metadata": {},
   "source": [
    "3. Avec les hypothèses que vous avez choisies, calculez la quantité d'électricité nécessaire pour liquéfier l'hydrogène."
   ]
  },
  {
   "cell_type": "code",
   "execution_count": null,
   "id": "037a088a",
   "metadata": {},
   "outputs": [],
   "source": []
  },
  {
   "cell_type": "markdown",
   "id": "b6b6db9a",
   "metadata": {},
   "source": [
    "### 2.1.2 Méthodes de production actuelles\n",
    "\n",
    "\n",
    "1. Comparez le facteur d'émission actuel (10 kgCO2/10 kgH2) aux émissions dues à la production d'hydrogène par vaporéformage du gaz naturel et par gaséification du charbon, et commentez le résultat obtenu."
   ]
  },
  {
   "cell_type": "code",
   "execution_count": null,
   "id": "eb9428a0",
   "metadata": {},
   "outputs": [],
   "source": []
  },
  {
   "cell_type": "markdown",
   "id": "e9464bd7",
   "metadata": {},
   "source": [
    "2. En supposant que tous les avions actuels sont remplacés par des avions à hydrogène produit avec les méthodes actuelles de production et en utilisant le mix électrique actuel, calculez la quantité d'électricité nécessaire, ainsi que les émissions de CO2 correspondantes. Commentez les résultats obtenus.\n",
    "\n",
    "> **Réponse**"
   ]
  },
  {
   "cell_type": "code",
   "execution_count": null,
   "id": "8600a92d",
   "metadata": {},
   "outputs": [],
   "source": []
  },
  {
   "cell_type": "markdown",
   "id": "0c90ce9c",
   "metadata": {},
   "source": [
    "### 2.1.3 Production par électrolyse\n",
    "\n",
    "On suppose maintenant que l'hydrogène est produit par électrolyse de l'eau.\n",
    "\n",
    "1. Calculez la quantité d'électricité nécessaire. Comparez-la à la quantité d'électricité produite actuellement, et à la quantité d'électricité produite de manière bas carbone et commentez les résultats obtenus.\n",
    "\n",
    "> **Réponse**"
   ]
  },
  {
   "cell_type": "code",
   "execution_count": null,
   "id": "0bebe8fd",
   "metadata": {},
   "outputs": [],
   "source": []
  },
  {
   "cell_type": "markdown",
   "id": "d94438c2",
   "metadata": {},
   "source": [
    "2. Calculez l'évolution des émissions de CO2 selon que l'on utilise le mix actuel ou un mix bas-carbone, et commentez les résultats obtenus.\n",
    "\n",
    "> **Réponse**"
   ]
  },
  {
   "cell_type": "code",
   "execution_count": null,
   "id": "6ee8b52e",
   "metadata": {},
   "outputs": [],
   "source": []
  },
  {
   "cell_type": "markdown",
   "id": "c6eb1eaf",
   "metadata": {},
   "source": [
    "3. Quel facteur d'émission faudrait-il atteindre, et quand cela aurait-il lieu dans les scénarios de l'IRENA ? Commentez les résultats obtenus."
   ]
  },
  {
   "cell_type": "code",
   "execution_count": null,
   "id": "ed5cac66",
   "metadata": {},
   "outputs": [],
   "source": []
  },
  {
   "cell_type": "markdown",
   "id": "0ad39e98",
   "metadata": {},
   "source": [
    "---\n",
    "## 2.2 Electrocarburants\n",
    "\n",
    "On suppose maintenant que l'ensemble de la flotte est alimentée par des électrocarburants. A partir de quelle valeur du facteur d'émission de l'électricité devient-il intéressant de remplacer le kérosène fossile par des électrocarburants ? Commentez les résultats obtenus.\n",
    "\n",
    "> **Réponse**"
   ]
  },
  {
   "cell_type": "code",
   "execution_count": null,
   "id": "96ddf9cf",
   "metadata": {},
   "outputs": [],
   "source": []
  },
  {
   "cell_type": "markdown",
   "id": "76060bf4",
   "metadata": {},
   "source": [
    "---\n",
    "## 2.3 Biocarburants\n",
    "\n",
    "Dans un premier temps, on suppose que la sélectivité vaut 100%, ie, que les voies de production considérées produisent 100% de biokérosène.\n",
    "\n",
    "1. Quelle serait la demande en biomasse si toute la flotte de 2019 utilisait des biocarburants ? Vous considérerez trois cas distincts selon que les biocarburants sont produits par la voie HEFA, FT ou AtJ.\n",
    "\n",
    "> **Réponse**"
   ]
  },
  {
   "cell_type": "code",
   "execution_count": null,
   "id": "403f961e",
   "metadata": {},
   "outputs": [],
   "source": []
  },
  {
   "cell_type": "markdown",
   "id": "e7e48604",
   "metadata": {},
   "source": [
    "2. Comparez ces chiffres à la bioénergie disponible en 2020 et commentez les résultats obtenus. Vous pourrez affiner votre réponse en utilisant la répartition suivante : 10% cultures lipidiques, 30% cultures glucidiques et 40% cultures lignocellulosiques.\n",
    "\n",
    "> **Réponse**"
   ]
  },
  {
   "cell_type": "code",
   "execution_count": null,
   "id": "40ca893a",
   "metadata": {},
   "outputs": [],
   "source": []
  },
  {
   "cell_type": "markdown",
   "id": "d57c6b7b",
   "metadata": {},
   "source": [
    "3. Calculez les émissions correspondantes en considérant les plages de valeurs suivantes pour les facteurs d'émission exprimées en gCO2/MJ (1er quartile - médiane - 3ème quartile) :\n",
    "    * FT : 0,3 - 7,7 - 12,6\n",
    "    * HEFA à partir d'huiles : 20,7\n",
    "    * HEFA à partir de culture : 42,1 - 61 - 73,9\n",
    "    * AtJ : 33,7 - 52,2 - 68,4\n",
    "\n",
    "> **Réponse**"
   ]
  },
  {
   "cell_type": "code",
   "execution_count": null,
   "id": "1d6dcf36",
   "metadata": {},
   "outputs": [],
   "source": []
  },
  {
   "cell_type": "markdown",
   "id": "b9b7327e",
   "metadata": {},
   "source": [
    "On souhaite maintenant prendre en compte la sélectivité.\n",
    "\n",
    "4. Quelle est qualitativement l'influence de la sélectivité sur les calculs précédents ?\n",
    "\n",
    "> **Réponse**\n",
    "\n",
    "5. Reprenez les questions précédentes en prenant en compte la sélectivité, uniquement pour la voie FT et en considérant la valeur médiane du facteur d'émission.\n",
    "\n",
    "> **Réponse**"
   ]
  },
  {
   "cell_type": "code",
   "execution_count": null,
   "id": "707f8101",
   "metadata": {},
   "outputs": [],
   "source": []
  },
  {
   "cell_type": "markdown",
   "id": "8543a5f9",
   "metadata": {},
   "source": [
    "## 3.4 (PARTIE OPTIONNELLE) Avion tout électrique\n",
    "\n",
    "Imaginons que tous les avions deviennent des avions tout électrique. Pour les calculs suivants, vous utiliserez:\n",
    "- pour la production d'électricité : les valeurs calculées dans la partie 1\n",
    "- pour l'avion électrique : les chiffres présentés dans le cours issus de l'article de Gnadt et al.\n",
    "\n",
    " \n",
    "\n",
    "1. Combien d'électricité faudrait-il **produire** ? Vous prendrez soin d'expliquer votre calcul, les termes que vous avez pris en compte ou non ainsi que les valeurs que vous avez choisies. Comparez cette valeur à la quantité d'électricité totale et à la quantité d'électricité bas carbone et commentez les résultats obtenus.\n",
    "\n",
    "> **Réponse**"
   ]
  },
  {
   "cell_type": "code",
   "execution_count": null,
   "id": "921e33af",
   "metadata": {},
   "outputs": [],
   "source": []
  },
  {
   "cell_type": "markdown",
   "id": "02444e7a",
   "metadata": {},
   "source": [
    "2. Avec le mix électrique mondial actuel, quelle serait l'évolution des émissions de CO2 ? et avec un mix électrique bas carbone ? Commentez les résultats obtenus.\n",
    "\n",
    "> **Réponse**"
   ]
  },
  {
   "cell_type": "code",
   "execution_count": null,
   "id": "d9bc898b",
   "metadata": {},
   "outputs": [],
   "source": []
  },
  {
   "cell_type": "markdown",
   "id": "114f1857",
   "metadata": {},
   "source": [
    "3. En utilisant l'extrapolation linéaire issue des prévisions de l'IRENA, calculer la valeur du mix électrique mondial pour que cette solution devienne intéressante, et la date (année) correspondante. Comparez par rapport aux résultats de Gnadt et al et commentez.\n",
    "\n",
    "> **Réponse**"
   ]
  },
  {
   "cell_type": "code",
   "execution_count": null,
   "id": "a0df52ee",
   "metadata": {},
   "outputs": [],
   "source": []
  },
  {
   "cell_type": "markdown",
   "id": "9459e1d6",
   "metadata": {},
   "source": [
    "---\n",
    "---\n",
    "# 3 Scénarios à horizon 2050\n",
    "\n",
    "Dans toute cette partie on suppose que le trafic croît de 3% par an sans prise en compte de la crise COVID, donc une évolution du trafic à partir de 2019. On considère quatre scénarios en 2050:\n",
    "1. Scénario tendanciel : en 2050, la flotte est constituée à 100% d'avions conventionnels. D'ici là, l'amélioration de la consommation (efficacité et opération) s'élève à 1,5% par an\n",
    "2. Scénario biocarburant : idem que scénario tendanciel, mais en 2050 toute la flotte utilise des biocarburants\n",
    "3. Scénario électrocarburant : idem que scénario tendanciel, mais en 2050 toute la flotte utilise des électrocarburants\n",
    "4. Scénario hydrogène : en 2050 toute la flotte utilise de l'hydrogène\n",
    "\n",
    "\n",
    "1. Pour le scénario biocarburant, faites un choix de voie de production et de facteur d'émission, que vous justifierez succinctement. Dans le reste du BE, vous garderez ce choix.\n",
    "\n",
    "> **Réponse**\n",
    "\n",
    "2. Calculez pour chacun des scénarios la quantité d'énergie embarquée nécessaire.\n",
    "\n",
    "> **Réponse**"
   ]
  },
  {
   "cell_type": "code",
   "execution_count": null,
   "id": "cc6354a9",
   "metadata": {},
   "outputs": [],
   "source": []
  },
  {
   "cell_type": "markdown",
   "id": "1a0468e6",
   "metadata": {},
   "source": [
    "3. Calculez pour chacun des scénarios les émissions de CO2 associées en 2050.\n",
    "\n",
    "> **Réponse**"
   ]
  },
  {
   "cell_type": "code",
   "execution_count": null,
   "id": "ee9c1235",
   "metadata": {},
   "outputs": [],
   "source": []
  },
  {
   "cell_type": "markdown",
   "id": "011450f6",
   "metadata": {},
   "source": [
    "4. Calculez pour chacun des scénarios la quantité d'énergie primaire (électricité ou bioénergie) nécessaire.\n",
    "\n",
    "> **Réponse**"
   ]
  },
  {
   "cell_type": "code",
   "execution_count": null,
   "id": "92482efd",
   "metadata": {},
   "outputs": [],
   "source": []
  },
  {
   "cell_type": "markdown",
   "id": "30511a13",
   "metadata": {},
   "source": [
    "5. A partir des données suivantes (issues de l'IRENA), faites un choix de disponibilité en bioénergie en 2050. Comparez la quantité de bioénergie calculée à la question précédente à cette valeur, et commentez le résultat.\n",
    "\n",
    "> **Réponse**"
   ]
  },
  {
   "cell_type": "code",
   "execution_count": null,
   "id": "bab83a8c",
   "metadata": {},
   "outputs": [],
   "source": [
    "dispo_bio = pd.read_csv(\"BE-decarbo/dispo-bio-2050.csv\")\n",
    "dispo_bio.boxplot()\n",
    "print(dispo_bio.median())"
   ]
  },
  {
   "cell_type": "markdown",
   "id": "fd73bee6",
   "metadata": {},
   "source": [
    "6. A partir des données suivantes (issues de scénarios prospectifs du GIEC, de l'IRENA, de l'AIE et de Shell), faites un choix de disponibilité en électricité en 2050. Comparez la quantité d'électricité calculée à la question précédente à cette valeur, et commentez le résultat.\n",
    "\n",
    "> **Réponse**"
   ]
  },
  {
   "cell_type": "code",
   "execution_count": null,
   "id": "ecc5ef33",
   "metadata": {},
   "outputs": [],
   "source": [
    "dispo_elec = pd.read_csv(\"BE-decarbo/dispo-elec-2050.csv\")\n",
    "dispo_elec.boxplot(column=['prod elec 2050'])\n",
    "print(dispo_elec['prod elec 2050'].median())"
   ]
  },
  {
   "cell_type": "markdown",
   "id": "9827985a",
   "metadata": {},
   "source": [
    "7. Au vu des calculs précédents, proposez un scénario pour l'aviation à 2050 en terme de proportion d'hydrogène, de biocarburant, d'électrocarburant et de kérosène fossile. Vous justifierez sommairement votre choix, pour lequel vous calculerez le besoin en énergie \"primaire\" (pétrole, électricité et bioénergie) et ce qu'il représente en terme de disponibilité. Calculez aussi les émissions de CO2 associées et commentez les résultats obtenus.\n",
    "\n",
    "> **Réponse**"
   ]
  },
  {
   "cell_type": "code",
   "execution_count": null,
   "id": "9141b9b7",
   "metadata": {},
   "outputs": [],
   "source": []
  }
 ],
 "metadata": {
  "kernelspec": {
   "display_name": "Python 3 (ipykernel)",
   "language": "python",
   "name": "python3"
  },
  "language_info": {
   "codemirror_mode": {
    "name": "ipython",
    "version": 3
   },
   "file_extension": ".py",
   "mimetype": "text/x-python",
   "name": "python",
   "nbconvert_exporter": "python",
   "pygments_lexer": "ipython3",
   "version": "3.8.15"
  }
 },
 "nbformat": 4,
 "nbformat_minor": 5
}
