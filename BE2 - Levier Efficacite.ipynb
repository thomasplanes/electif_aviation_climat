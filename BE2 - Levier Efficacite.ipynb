{
 "cells": [
  {
   "cell_type": "markdown",
   "id": "df4c010e",
   "metadata": {
    "tags": []
   },
   "source": [
    "# **Partie 2 : Réglages pour le levier \"Efficacité\"**\n",
    "<a id=\"0\"></a>\n",
    "\n",
    "\n",
    "L'objectif de ce Notebook est de réaliser des analyses pour paramétrer des scénarios technologiques concernant l'évolution de l'efficacité énergétique des avions.\n",
    "\n",
    "Sommaire :<br>\n",
    "[1. Évaluation des gains historiques](#1)<br>\n",
    "[2. Amélioration de l'efficacité énergétique via de nouvelles technologies avion](#2)<br>\n",
    "[3. Amélioration de l'efficacité énergétique via les opérations](#3)<br>\n",
    "[4. Amélioration de l'efficacité énergétique via le taux de remplissage](#4)<br>\n",
    "-----\n",
    "-----"
   ]
  },
  {
   "cell_type": "markdown",
   "id": "30eb3623",
   "metadata": {},
   "source": [
    "## 1. Évaluation des gains historiques\n",
    "<a id=\"1\"></a>\n",
    "\n",
    "L'objectif de cette partie est d'estimer les gains historiques dus à l'amélioration de l'efficacité énergétique des avions.\n",
    "\n",
    "-----\n",
    "### 1.1. Tracé de l'évolution historique des facteurs de l'identité de Kaya\n",
    "\n",
    "Un outil pertinent pour étudier les émissions de CO<sub>2</sub> du secteur aérien est d'utiliser l'identité de Kaya adaptée présentée ci-dessous :\n",
    "\n",
    "$CO_2 = RPK \\times \\frac{E}{RPK} \\times \\frac{CO_2}{E}$\n",
    "\n",
    "avec $CO_2$ la quantité de CO<sub>2</sub> émise par le secteur aérien, $RPK$ le nombre de passagers-kilomètres qui mesure le trafic aérien et $E$ l'énergie utilisée par le secteur aérien. Apparaissent alors deux ratios technologiques pertinents : l'intensité énergétique $\\frac{E}{RPK}$ et l'intensité carbone $\\frac{CO_2}{E}$.\n",
    "\n",
    "À partir des données fournies, tracez l'évolution de ces différents facteurs pour le secteur aérien entre 1973 et 2018. La représentation pourra être faite à partir d'une base 1 en 1973 et en utilisant une échelle logarithmique pour les ordonnées."
   ]
  },
  {
   "cell_type": "code",
   "execution_count": 1,
   "id": "e5505009",
   "metadata": {},
   "outputs": [
    {
     "ename": "ModuleNotFoundError",
     "evalue": "No module named 'ipysheet'",
     "output_type": "error",
     "traceback": [
      "\u001b[0;31m---------------------------------------------------------------------------\u001b[0m",
      "\u001b[0;31mModuleNotFoundError\u001b[0m                       Traceback (most recent call last)",
      "\u001b[0;32m<ipython-input-1-5ae447d9728b>\u001b[0m in \u001b[0;36m<module>\u001b[0;34m\u001b[0m\n\u001b[1;32m      3\u001b[0m \u001b[0;32mimport\u001b[0m \u001b[0mcsv\u001b[0m\u001b[0;34m\u001b[0m\u001b[0;34m\u001b[0m\u001b[0m\n\u001b[1;32m      4\u001b[0m \u001b[0;32mimport\u001b[0m \u001b[0mmatplotlib\u001b[0m\u001b[0;34m.\u001b[0m\u001b[0mpyplot\u001b[0m \u001b[0;32mas\u001b[0m \u001b[0mplt\u001b[0m\u001b[0;34m\u001b[0m\u001b[0;34m\u001b[0m\u001b[0m\n\u001b[0;32m----> 5\u001b[0;31m \u001b[0;32mimport\u001b[0m \u001b[0mipysheet\u001b[0m\u001b[0;34m\u001b[0m\u001b[0;34m\u001b[0m\u001b[0m\n\u001b[0m\u001b[1;32m      6\u001b[0m \u001b[0;32mfrom\u001b[0m \u001b[0mipysheet\u001b[0m \u001b[0;32mimport\u001b[0m \u001b[0msheet\u001b[0m\u001b[0;34m,\u001b[0m \u001b[0mcell\u001b[0m\u001b[0;34m\u001b[0m\u001b[0;34m\u001b[0m\u001b[0m\n\u001b[1;32m      7\u001b[0m \u001b[0;34m\u001b[0m\u001b[0m\n",
      "\u001b[0;31mModuleNotFoundError\u001b[0m: No module named 'ipysheet'"
     ]
    }
   ],
   "source": [
    "import numpy as np\n",
    "import pandas as pd\n",
    "import csv\n",
    "import matplotlib.pyplot as plt\n",
    "\n",
    "csv = pd.read_csv('./Data/Aviation_Data.csv', sep=';')\n",
    "\n",
    "database = csv.values\n",
    "year = database[:,0]\n",
    "rpk = database[:,1]\n",
    "ask = database[:,2]\n",
    "energy = database[:,3]\n",
    "co2 = database[:,4]\n",
    "\n",
    "csv.head()\n",
    "#csv.style"
   ]
  },
  {
   "cell_type": "code",
   "execution_count": null,
   "id": "5e339ac4",
   "metadata": {},
   "outputs": [],
   "source": []
  },
  {
   "cell_type": "markdown",
   "id": "bfe4a381",
   "metadata": {},
   "source": [
    "-----\n",
    "### 1.2. Décomposition des gains d'efficacité énergétique\n",
    "\n",
    "Le facteur d'intensité énergétique peut être amélioré par 3 moyens : améliorer les performances des avions via de nouvelles technologies (moteurs, aérodynamique, systèmes...), améliorer les opérations au sol et en vol et améliorer le taux de remplissage. Si distinguer les deux premiers leviers d'efficacité est complexe, il est facile de séparer ces derniers du taux de remplissage.\n",
    "\n",
    "Séparez les gains d'efficacité énergétique en terme de taux de remplissage et de technologies/opérations en traçant un ou plusieurs graphes de votre choix."
   ]
  },
  {
   "cell_type": "code",
   "execution_count": null,
   "id": "89c61aca",
   "metadata": {},
   "outputs": [],
   "source": []
  },
  {
   "cell_type": "markdown",
   "id": "ebe83263",
   "metadata": {},
   "source": [
    "### 1.3. Estimations des gains d'efficacité annuel moyen et par décennie\n",
    "\n",
    "Afin d'obtenir des ordres de grandeur, déterminez les gains historiques annuels moyens pour l'efficacité. Vous ferez aussi la distinction entre les gains issus de l'amélioration du taux de remplissage et ceux issus de la technologie et des opérations. Commentez."
   ]
  },
  {
   "cell_type": "code",
   "execution_count": null,
   "id": "7259330e",
   "metadata": {},
   "outputs": [],
   "source": []
  },
  {
   "cell_type": "markdown",
   "id": "24529342",
   "metadata": {},
   "source": [
    "> **Réponses**"
   ]
  },
  {
   "cell_type": "markdown",
   "id": "8e1259a4",
   "metadata": {},
   "source": [
    "-----\n",
    "-----\n",
    "## 2. Amélioration de l'efficacité énergétique via de nouvelles technologies avion\n",
    "<a id=\"2\"></a>\n",
    "\n",
    "L'objectif de cette partie est de modéliser les améliorations de l'efficacité énergétique des avions en intégrant de nouvelles technologies plus efficaces. Pour obtenir une meilleur granularité dans les modélisations, la flotte est divisée en 4 catégories principales : \n",
    "- court-courrier passagers (<1500 km, composée de 3 sous-catégories : régional turbofan, régional turboprop, *narrow-body* turbofan conventionnel)\n",
    "- moyen-courrier passagers (>1500km et <4000 km, de type *narrow-body* majoritairement)\n",
    "- long-courrier passagers (>4000 km, de type *wide-body* majoritairement)\n",
    "- fret (toute distance franchissable, incluant *belly cargo* et *freighter*)\n",
    "\n",
    "Deux approches seront considérées :\n",
    "- une approche *bottom-up* basée sur l'intégration de nouveaux avions via des modèles de renouvellement de flotte ; elle sera appliquée pour les avions de type court-courrier conventionnel et moyen-courrier \n",
    "- une approche *top-down* basée sur l'utilisation d'un gain annuel moyen estimé ; elle sera appliquée pour les avions de type court-courrier régional, long-courrier et fret\n",
    "\n",
    "-----\n",
    "### 2.1. Approche *bottom-up*\n",
    "\n",
    "Cette partie se focalise sur une approche *bottom-up* basée sur l'intégration de nouveaux avions dans la flotte. L'analyse se concentre sur les avions de type moyen-courrier. Pour les avions de type court-courrier conventionnel, les mêmes avions peuvent être considérés en première approximation et ne sont donc pas étudiés en détail ici.\n",
    "\n",
    "#### 2.1.1. Choix des architecture avion et avions futurs\n",
    "\n",
    "Définissez des avions distincts qui pourraient voir le jour entre aujourd'hui et 2050. Vous avez aussi la possibilité de créer des architectures spécifiques (qui pourront être composées de plusieurs avions successifs) qui occuperont à terme des parts de marché distinctes. Voici quelques exemples possibles : architecture conventionnelle *narrow-body* à turbofan (présente de base), architecture équipée de turbopropulseurs, architecture hydrogène... \n",
    "\n",
    "Expliquez votre démarche sur le choix des catégories et des avions. Limitez vous pour simplifier à maximum 3 architectures (en incluant celle conventionnelle) et à maximum 2 avions par nouvelle architecture.\n",
    "\n",
    "Vous devrez fournir pour chaque avion, en complétant le tableau ci-dessous via les cellules, une année de mise sur le marché, un type de carburant utilisé (drop-in ou hydrogène) et un gain en efficacité énergétique par rapport à la référence de l'Airbus A320neo (considéré comme l'avion le plus récent et le plus efficace de cette catégorie). \n",
    "\n",
    "Pour vous aider, des données issues de l'IATA sont disponibles ci-dessous. Vous avez aussi la possibilité de trouver des sources supplémentaires (notamment pour les architectures hydrogène).\n",
    "- https://aviation.report/Resources/Whitepapers/6e0df8d7-f381-4a56-bef4-3f83fe8f65e1_IATA%20TECHNOLOGY%20ROADMAP%202013.pdf\n",
    "- https://www.iata.org/contentassets/8d19e716636a47c184e7221c77563c93/Technology-roadmap-2050.pdf\n"
   ]
  },
  {
   "cell_type": "markdown",
   "id": "ab17aa4c",
   "metadata": {},
   "source": [
    "> **Réponses**"
   ]
  },
  {
   "cell_type": "markdown",
   "id": "2ffdb6c6-18b6-4771-81e1-9481bcc09c22",
   "metadata": {},
   "source": [
    "|Nom de l'architecture avion|Type de carburant utilisé|Part de marché|\n",
    "|--|--|--|\n",
    "|Narrow-body turbofan|Drop-in||\n",
    "||||\n",
    "||||"
   ]
  },
  {
   "cell_type": "markdown",
   "id": "18850f1e-bb81-43b8-83fa-06d892de4a5d",
   "metadata": {},
   "source": [
    "|Nom de l'avion|Architecture avion|Année de mise sur le marché|Gains en % par rapport à la référence|\n",
    "|--|--|--|--|\n",
    "|Avion 1|Narrow-body turbofan|||\n",
    "|||||\n",
    "|||||\n",
    "|||||\n",
    "|||||"
   ]
  },
  {
   "cell_type": "markdown",
   "id": "1b8fd370",
   "metadata": {},
   "source": [
    "#### 2.1.2. Application d'un modèle de renouvellement de flotte\n",
    "\n",
    "Une fois ces architectures et avions définis, il est possible de construire l'évolution future de l'efficacité énergétique des avions de cette catégorie moyen-courrier en utilisant des modèles de renouvellement de flotte spécifiques. Ils sont basés sur l'utilisation de fonctions logistiques (aussi appelées sigmoïdes ou courbes en S).\n",
    "\n",
    "Ces modèles nécessitent de définir une durée pour renouveller l'ensemble de la flotte. Par défaut, cette valeur peut être considérée comme égale à 25 ans mais vous avez la possibilité de choisir une valeur plus petite pour considérer une accélération du rythme de renouvellement.\n",
    "\n",
    "Complétez le code Python avec vos hypothèses et commentez les résultats obtenus pour le renouvellement de flotte et l'évolution de l'efficacité énergétique. Vous comparerez notamment aux valeurs historiques obtenues avec l'identité de Kaya. Vous réaliserez aussi une analyse de sensibilité sur la durée de renouvellement de la flotte."
   ]
  },
  {
   "cell_type": "code",
   "execution_count": 2,
   "id": "849fce7a",
   "metadata": {},
   "outputs": [],
   "source": [
    "### SAISISSEZ VOS VALEURS ICI (SANS MODIFIER LE NOM DES VARIABLES)\n",
    "### Si jamais vous n'utilisez que 2 architectures, entrez 0 dans la part de marché de la 3ème architecture\n",
    "### Si jamais vous n'utilisez qu'un seul avion, entrez 2051 comme date de mise sur le marché du 2ème avion\n",
    "\n",
    "# Choix de la durée de transition d'une génération d'avion à une autre dans les décennies à venir (pour 98% de la flotte)\n",
    "life =\n",
    "\n",
    "# Part de marché des différentes architectures à horizon 2050+\n",
    "category0_share =  # Unité : % - Architecture conventionnelle (narrow-body turbofan drop-in)\n",
    "category1_share =  # Unité : % \n",
    "category2_share =  # Unité : % \n",
    "\n",
    "# Architecture 0 (convetionnelle) - Classer les avions dans leur ordre d'apparition\n",
    "## Avion 1 (année de mise sur le marché + gain par rapport à l'avion de référence)\n",
    "date_cat0_2 =\n",
    "reduction_aircraftC0N2 =\n",
    "## Avion 2 (année de mise sur le marché + gain par rapport à l'avion de référence)\n",
    "date_cat0_3 =\n",
    "reduction_aircraftC0N3 =\n",
    "## Avion 3 (année de mise sur le marché + gain par rapport à l'avion de référence)\n",
    "\n",
    "# Architecture 1 - Classer les avions dans leur ordre d'apparition\n",
    "## Avion 1 (année de mise sur le marché + gain par rapport à l'avion de référence)\n",
    "date_cat1_1 =\n",
    "reduction_aircraftC1N1 =\n",
    "## Avion 2 (année de mise sur le marché + gain par rapport à l'avion de référence)\n",
    "date_cat1_2 =\n",
    "reduction_aircraftC1N2 =\n",
    "\n",
    "# Architecture 2 - Classer les avions dans leur ordre d'apparition\n",
    "## Avion 1 (année de mise sur le marché + gain par rapport à l'avion de référence)\n",
    "date_cat2_1 =\n",
    "reduction_aircraftC2N1 =\n",
    "## Avion 2 (année de mise sur le marché + gain par rapport à l'avion de référence)\n",
    "date_cat2_2 =\n",
    "reduction_aircraftC2N2 ="
   ]
  },
  {
   "cell_type": "code",
   "execution_count": 3,
   "id": "244b6ec4",
   "metadata": {
    "jupyter": {
     "source_hidden": true
    },
    "tags": []
   },
   "outputs": [
    {
     "data": {
      "image/png": "[encoded data removed]",
      "text/plain": [
       "<Figure size 432x288 with 1 Axes>"
      ]
     },
     "metadata": {
      "needs_background": "light"
     },
     "output_type": "display_data"
    }
   ],
   "source": [
    "# Calcul et graphes\n",
    "\n",
    "# Parameter for the logistic function for aircraft\n",
    "life_base = 25 # 25 according to my first estimation, 15 for DLR\n",
    "\n",
    "# Warning: if the difference is too important, there could be some problems for the renewal\n",
    "# Answer: correction made using a specific correction for Aircraft C0 N1, keeping the 2020 value as a fixed point\n",
    "limit = 2 # 1 is the value use by DLR (98% of aircraft for 15 years)\n",
    "\n",
    "# Parameter calculation\n",
    "parameter_base = np.log(100/limit-1)/(life_base/2) # For the actual aircraft\n",
    "parameter_renewal = np.log(100/limit-1)/(life/2)\n",
    "\n",
    "# Other parameters\n",
    "limit_begin = limit # To avoid too early appearance: to be set or calibrated, identical to \"limit\" by consistency\n",
    "# Do we consider an end limit ?## IMPORTANT : for defining the functions, we need to know which sub-category will appear first, second and which is the initial one (named 0)\n",
    "\n",
    "\n",
    "# Category 2\n",
    "# We define the aircraft in the sub-category 2 (hydrogen). Here, only one aircraft is considered\n",
    "\n",
    "## Aircraft C2 N1 \n",
    "year_cat2_1_begin = date_cat2_1\n",
    "year_cat2_1 = year_cat2_1_begin + life/2\n",
    "def function_cat2_1(x):\n",
    "    value = np.zeros(len(x))\n",
    "    for i in range(0,len(x)):\n",
    "        if 100/(1+np.exp(-parameter_renewal*(x[i]-year_cat2_1)))<limit_begin: # 100 or category_share ?\n",
    "            value[i] = 0\n",
    "        else:\n",
    "            value[i] = category2_share/(1+np.exp(-parameter_renewal*(x[i]-year_cat2_1))) \n",
    "    return value\n",
    "\n",
    "## Aircraft C2 N2 \n",
    "year_cat2_2_begin = date_cat2_2\n",
    "year_cat2_2 = year_cat2_2_begin + life/2\n",
    "def function_cat2_2(x):\n",
    "    value = np.zeros(len(x))\n",
    "    for i in range(0,len(x)):\n",
    "        if 100/(1+np.exp(-parameter_renewal*(x[i]-year_cat2_2)))<limit_begin: # 100 or category_share ?\n",
    "            value[i] = 0\n",
    "        else:\n",
    "            value[i] = category2_share/(1+np.exp(-parameter_renewal*(x[i]-year_cat2_2))) \n",
    "    return value\n",
    "\n",
    "\n",
    "# Category 1\n",
    "# We define the aircraft in the sub-category 1 (turboprop). Here, two aircraft are considered\n",
    "\n",
    "## Aircraft C1 N1 \n",
    "year_cat1_1_begin = date_cat1_1\n",
    "year_cat1_1 = year_cat1_1_begin + life/2\n",
    "def function_cat1_1(x):\n",
    "    value = np.zeros(len(x))\n",
    "    for i in range(0,len(x)):\n",
    "        if 100/(1+np.exp(-parameter_renewal*(x[i]-year_cat1_1)))<limit_begin:\n",
    "            value[i] = function_cat2_1(x)[i]\n",
    "        else:\n",
    "            value[i] = function_cat2_1(x)[i] + category1_share/(1+np.exp(-parameter_renewal*(x[i]-year_cat1_1))) \n",
    "    return value\n",
    "\n",
    "## Aircraft C1 N2 \n",
    "year_cat1_2_begin = date_cat1_2\n",
    "year_cat1_2 = year_cat1_2_begin + life/2\n",
    "def function_cat1_2(x):\n",
    "    value = np.zeros(len(x))\n",
    "    for i in range(0,len(x)):\n",
    "        if 100/(1+np.exp(-parameter_renewal*(x[i]-year_cat1_2)))<limit_begin:\n",
    "            value[i] = function_cat2_1(x)[i]\n",
    "        else:\n",
    "            value[i] = function_cat2_1(x)[i] + category1_share/(1+np.exp(-parameter_renewal*(x[i]-year_cat1_2))) \n",
    "    return value\n",
    "\n",
    "\n",
    "# Category 0\n",
    "# We define the aircraft in the sub-category 0 (initial one, turbofan). \n",
    "# Here, three aircraft are considered, but there is no model for the oldest (which represents the difference between the first one and 0)\n",
    "\n",
    "## Aircraft C0 N1 \n",
    "year_cat0_1_begin = 2010.35\n",
    "year_cat0_1_base = year_cat0_1_begin + life_base/2\n",
    "### WARNING !!!\n",
    "year_cat0_1 = 2019 - parameter_base/parameter_renewal * (2019 - year_cat0_1_base)\n",
    "def function_cat0_1(x):\n",
    "    value = np.zeros(len(x))\n",
    "    for i in range(0,len(x)):\n",
    "        if 100/(1+np.exp(-parameter_renewal*(x[i]-year_cat0_1)))<limit_begin:\n",
    "            value[i] = function_cat1_1(x)[i]\n",
    "        else:\n",
    "            value[i] = function_cat1_1(x)[i] + (100-function_cat1_1(x)[i])/(1+np.exp(-parameter_renewal*(x[i]-year_cat0_1))) \n",
    "    return value\n",
    "\n",
    "## Aircraft C0 N2 \n",
    "year_cat0_2_begin = date_cat0_2\n",
    "year_cat0_2 = year_cat0_2_begin + life/2\n",
    "def function_cat0_2(x):\n",
    "    value = np.zeros(len(x))\n",
    "    for i in range(0,len(x)):\n",
    "        if 100/(1+np.exp(-parameter_renewal*(x[i]-year_cat0_2)))<limit_begin:\n",
    "            value[i] = function_cat1_1(x)[i]\n",
    "        else:\n",
    "            value[i] = function_cat1_1(x)[i] + (100-function_cat1_1(x)[i])/(1+np.exp(-parameter_renewal*(x[i]-year_cat0_2))) \n",
    "    return value\n",
    "\n",
    "## Aircraft C0 N3 \n",
    "year_cat0_3_begin = date_cat0_3\n",
    "year_cat0_3 = year_cat0_3_begin + life/2\n",
    "def function_cat0_3(x):\n",
    "    value = np.zeros(len(x))\n",
    "    for i in range(0,len(x)):\n",
    "        if 100/(1+np.exp(-parameter_renewal*(x[i]-year_cat0_3)))<limit_begin:\n",
    "            value[i] = function_cat1_1(x)[i]\n",
    "        else:\n",
    "            value[i] = function_cat1_1(x)[i] + (100-function_cat1_1(x)[i])/(1+np.exp(-parameter_renewal*(x[i]-year_cat0_3))) \n",
    "    return value\n",
    "\n",
    "\n",
    "# Estimation for years between 2020 and 2050\n",
    "X = np.linspace(2019,2050,32)    \n",
    "cent = 100*np.ones(len(X))\n",
    "cat0_1 = function_cat0_1(X)\n",
    "cat0_2 = function_cat0_2(X)\n",
    "cat0_3 = function_cat0_3(X)\n",
    "cat1_1 = function_cat1_1(X)\n",
    "cat1_2 = function_cat1_2(X)\n",
    "cat2_1 = function_cat2_1(X)\n",
    "cat2_2 = function_cat2_2(X)\n",
    "\n",
    "# Illustrative plot : share of aircraft\n",
    "plt.plot(X, cat0_1, \"--\", color='black')\n",
    "plt.plot(X[5:32], cat0_2[5:32], \"--\", color='black')\n",
    "plt.plot(X[20:32], cat0_3[20:32], \"--\", color='black')\n",
    "plt.plot(X[10:32], cat1_1[10:32], \"-\", color='black')\n",
    "plt.plot(X[25:32], cat1_2[25:32], \"--\", color='black')\n",
    "plt.plot(X[15:32], cat2_1[15:32], \"-\", color='black')\n",
    "plt.plot(X[15:32], cat2_2[15:32], \"--\", color='black')\n",
    "plt.fill_between(X, cent, color='darkred', label='Archi 0 - Avion ancien')\n",
    "plt.fill_between(X, cat0_1, color='orangered', label='Archi 0 - Avion récent')\n",
    "plt.fill_between(X, cat0_2, color='darkorange', label='Archi 0 - Avion 1')\n",
    "plt.fill_between(X, cat0_3, color='gold', label='Archi 0 - Avion 2')\n",
    "plt.fill_between(X, cat1_1, color='green', label='Archi 1 - Avion 1')\n",
    "plt.fill_between(X, cat1_2, color='yellowgreen', label='Archi 1 - Avion 2')\n",
    "plt.fill_between(X, cat2_1, color='royalblue', label='Archi 2 - Avion 1')\n",
    "plt.fill_between(X, cat2_2, color='black', label='Archi 2 - Avion 2')\n",
    "plt.xlim(2019,2050)\n",
    "plt.ylim(0,100)\n",
    "plt.legend(loc='upper left', prop={'size': 8})\n",
    "plt.xlabel(\"Année\")\n",
    "plt.ylabel(\"Répartition de la flotte moyen-courrier [%]\")\n",
    "plt.show()"
   ]
  },
  {
   "cell_type": "code",
   "execution_count": 4,
   "id": "53a62b23",
   "metadata": {
    "jupyter": {
     "source_hidden": true
    },
    "tags": []
   },
   "outputs": [
    {
     "name": "stdout",
     "output_type": "stream",
     "text": [
      "\n",
      "Évolution de la consommation énergétique par siège-kilomètre en 2050 par rapport à 2020 : -37.5 %\n",
      "Amélioration annuelle de l'efficacité énergétique par siège-kilomètre entre 2020 et 2050 : 1.56 %\n",
      "\n"
     ]
    },
    {
     "data": {
      "image/png": "[encoded data removed]",
      "text/plain": [
       "<Figure size 432x288 with 1 Axes>"
      ]
     },
     "metadata": {
      "needs_background": "light"
     },
     "output_type": "display_data"
    }
   ],
   "source": [
    "# Historical\n",
    "Xold = np.linspace(2000,2020,21)\n",
    "\n",
    "EnergyPerASK_mean_historical = [1.38474711, 1.35865667, 1.37913787, 1.32541835, 1.26048758, 1.23211795, 1.18562571, 1.13969345, 1.09161951, 1.05076049, 1.04515426, 1.00588758, 0.97650892, 0.95796147, 0.93368592, 0.92173733, 0.90307,    0.9039976, 0.88453932, 0.8595559, 0.84903338]\n",
    "\n",
    "\n",
    "# Energy consumption per seat (MJ/ASK)\n",
    "## Old aircraft\n",
    "EnergyPerASK_aircraftC0N0 = 0.9163 # Estimated with old generation of 81.4gCO2/RPK (direct emission, mean load factor)\n",
    "EnergyPerASK_aircraftC0N1 = 0.6979 # Estimated with recent generation of 62gCO2/RPK (direct emission, mean load factor)\n",
    "## New aircraft\n",
    "EnergyPerASK_aircraftC0N2 = EnergyPerASK_aircraftC0N1*(1-reduction_aircraftC0N2/100)\n",
    "EnergyPerASK_aircraftC0N3 = EnergyPerASK_aircraftC0N1*(1-reduction_aircraftC0N3/100)\n",
    "EnergyPerASK_aircraftC1N1 = EnergyPerASK_aircraftC0N1*(1-reduction_aircraftC1N1/100)\n",
    "EnergyPerASK_aircraftC1N2 = EnergyPerASK_aircraftC0N1*(1-reduction_aircraftC1N2/100)\n",
    "EnergyPerASK_aircraftC2N1 = EnergyPerASK_aircraftC0N1*(1-reduction_aircraftC2N1/100)\n",
    "EnergyPerASK_aircraftC2N2 = EnergyPerASK_aircraftC0N1*(1-reduction_aircraftC2N2/100)\n",
    "\n",
    "EnergyPerASK_mean = EnergyPerASK_aircraftC0N0 * (100-cat0_1)/100 + EnergyPerASK_aircraftC0N1 * (cat0_1-cat0_2)/100 + EnergyPerASK_aircraftC0N2 * (cat0_2-cat0_3)/100 +EnergyPerASK_aircraftC0N3 * (cat0_3-cat1_1)/100 +EnergyPerASK_aircraftC1N1 * (cat1_1-cat1_2)/100 +EnergyPerASK_aircraftC1N2 * (cat1_2-cat2_1)/100 +EnergyPerASK_aircraftC2N1 * (cat2_1-cat2_2)/100 +EnergyPerASK_aircraftC2N2 * cat2_2/100                      \n",
    "\n",
    "print(\"\")\n",
    "print(\"Évolution de la consommation énergétique par siège-kilomètre en 2050 par rapport à 2020 :\", np.round(100*(EnergyPerASK_mean[30]/EnergyPerASK_mean[0]-1), 1), \"%\")\n",
    "print(\"Amélioration annuelle de l'efficacité énergétique par siège-kilomètre entre 2020 et 2050 :\", np.round(100*(1-(1+(EnergyPerASK_mean[30]/EnergyPerASK_mean[0]-1))**(1/30)),2), \"%\")\n",
    "print(\"\")\n",
    "\n",
    "plt.plot(Xold, EnergyPerASK_mean_historical, color=\"black\", label=\"Historique\")\n",
    "plt.plot(X[1:len(X)], EnergyPerASK_mean[1:len(X)], \"--\", color=\"red\", label=\"Projection\")\n",
    "plt.xlim(2000,2050)\n",
    "plt.grid()\n",
    "plt.legend()\n",
    "plt.xlabel(\"Année\")\n",
    "plt.ylabel(\"Consommation énergétique moyenne\\npar siège-km des avions [MJ/ASK]\")\n",
    "plt.show()"
   ]
  },
  {
   "cell_type": "markdown",
   "id": "29b02c40",
   "metadata": {},
   "source": [
    "> **Réponses**"
   ]
  },
  {
   "cell_type": "markdown",
   "id": "dd3e08b5",
   "metadata": {},
   "source": [
    "-----\n",
    "### 2.2. Approche *top-down*\n",
    "\n",
    "Cette partie se focalise sur une approche *top-down* basée sur l'utilisation d'un gain moyen annucel de l'efficacité énergétique. \n",
    "\n",
    "Choisissez des hypothèses d'évolution de la consommation énergétique pour les catégories court-courrier régional, long-courrier et fret. Vous justifierez simplement et rapidement ces choix tout en précisant éventuellement le type de carburant utilisé/utilisable."
   ]
  },
  {
   "cell_type": "markdown",
   "id": "a87b14d8",
   "metadata": {},
   "source": [
    "> **Réponses**"
   ]
  },
  {
   "cell_type": "markdown",
   "id": "c36e2364",
   "metadata": {},
   "source": [
    "-----\n",
    "-----\n",
    "## 3. Amélioration de l'efficacité énergétique via les opérations\n",
    "<a id=\"3\"></a>\n",
    "\n",
    "L'objectif de cette partie est de régler les paramètres des modèles (de type sigmoïde) concernant l'amélioration des opérations à horizon 2050. Ces derniers seront utilisés pour réaliser des scénarios prospectifs dans le BE4 avec l'outil CAST.\n",
    "\n",
    "On considère que des gains de l'ordre de 6% sont possibles à horizon 2050. En supposant que les gains au niveau opérationnel atteindront environ 2% en 2035 par rapport à 2020, déterminez un paramétrage possible du gain final, de l'année de début de transition et de la durée de transition qui permet de respecter les différentes contraintes. Vérifiez la cohérence des paramétrages réalisés."
   ]
  },
  {
   "cell_type": "code",
   "execution_count": 7,
   "id": "3d576811-94a7-419f-88f2-b62a768b5262",
   "metadata": {},
   "outputs": [],
   "source": [
    "### SAISISSEZ VOS VALEURS ICI (SANS MODIFIER LE NOM DES VARIABLES)\n",
    "\n",
    "# Choix du gain final (valeur en %)\n",
    "final_gain =\n",
    "# Choix de la durée de transition (qui permet d'atteindre 98% du gain final)\n",
    "duration =\n",
    "# Choix de l'année de début de transition (supérieure ou égale à 2020)\n",
    "first_year ="
   ]
  },
  {
   "cell_type": "code",
   "execution_count": 8,
   "id": "c11a2527-7ca3-4f11-b4c3-30eb44c11317",
   "metadata": {
    "jupyter": {
     "source_hidden": true
    },
    "tags": []
   },
   "outputs": [
    {
     "data": {
      "image/png": "[encoded data removed]",
      "text/plain": [
       "<Figure size 432x288 with 1 Axes>"
      ]
     },
     "metadata": {
      "needs_background": "light"
     },
     "output_type": "display_data"
    }
   ],
   "source": [
    "year = np.linspace(2020,2050,31)\n",
    "\n",
    "def evolution_operation(final_gain, first_year, duration):\n",
    "    transition_year = first_year + duration/2\n",
    "    limit_operation = 0.02*final_gain\n",
    "    parameter_operation = np.log(100/2-1)/(duration/2)\n",
    "    value = np.zeros(len(year))\n",
    "    for i in range(0,len(year)):\n",
    "        if final_gain/(1+np.exp(-parameter_operation*(year[i]-transition_year)))<limit_operation:\n",
    "            value[i] = 0\n",
    "        else:\n",
    "            value[i] = final_gain/(1+np.exp(-parameter_operation*(year[i]-transition_year)))\n",
    "    return value\n",
    "\n",
    "annual_gain = evolution_operation(final_gain, first_year, duration)\n",
    "\n",
    "plt.plot(year, annual_gain, color=\"black\")\n",
    "plt.xlim(2020,2050)\n",
    "plt.grid()\n",
    "plt.xlabel(\"Année\")\n",
    "plt.ylabel(\"Gains via l'amélioration des opérations [%]\")\n",
    "plt.show()"
   ]
  },
  {
   "cell_type": "markdown",
   "id": "5212fa13",
   "metadata": {},
   "source": [
    "-----\n",
    "-----\n",
    "## 4. Amélioration de l'efficacité énergétique via le taux de remplissage\n",
    "<a id=\"4\"></a>\n",
    "\n",
    "L'objectif de cette dernière partie est de simplement estimer le taux de remplissage moyen de la flotte à horizon 2050.\n",
    "\n",
    "Pour déterminer cette hypothèse, vous pouvez par exemple (au choix) : \n",
    "- réaliser une projection tendancielle des données historiques\n",
    "- trouver des informations et projections industrielles\n",
    "- trouver les meilleurs taux de remplissage atteints par des compagnies aériennes\n",
    "- ...\n",
    "\n",
    "Expliquez votre démarche et indiquez la valeur que vous aurez retenue."
   ]
  },
  {
   "cell_type": "markdown",
   "id": "9c5762c2",
   "metadata": {},
   "source": [
    "> **Réponses**"
   ]
  },
  {
   "cell_type": "code",
   "execution_count": null,
   "id": "7cc13b52",
   "metadata": {},
   "outputs": [],
   "source": []
  }
 ],
 "metadata": {
  "kernelspec": {
   "display_name": "Python 3 (ipykernel)",
   "language": "python",
   "name": "python3"
  },
  "language_info": {
   "codemirror_mode": {
    "name": "ipython",
    "version": 3
   },
   "file_extension": ".py",
   "mimetype": "text/x-python",
   "name": "python",
   "nbconvert_exporter": "python",
   "pygments_lexer": "ipython3",
   "version": "3.8.13"
  }
 },
 "nbformat": 4,
 "nbformat_minor": 5
}
