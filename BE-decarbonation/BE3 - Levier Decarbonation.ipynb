{
 "cells": [
  {
   "cell_type": "markdown",
   "metadata": {},
   "source": [
    "# Partie 3 : Réglages pour le levier \"Décarbonation du carburant\"\n",
    "<a id=\"10\"></a>\n"
   ]
  },
  {
   "cell_type": "code",
   "execution_count": null,
   "metadata": {},
   "outputs": [],
   "source": [
    "import numpy as np\n",
    "import matplotlib.pyplot as plt\n",
    "import pandas as pd"
   ]
  },
  {
   "cell_type": "markdown",
   "metadata": {},
   "source": [
    "---\n",
    "---\n",
    "# 1. Préliminaires\n",
    "\n",
    "## 1.1 Energie de l'aviation en 2019\n",
    "\n",
    "1. Allez chercher sur le [diagramme de Sankey de l'AIE](https://www.iea.org/sankey/#?c=World&s=Final%20consumption) la quantité d'énergie utilisée par le secteur aérien en 2019. Vous exprimerez votre résultat en EJ.\n",
    "\n",
    "> **Réponse**"
   ]
  },
  {
   "cell_type": "code",
   "execution_count": null,
   "metadata": {},
   "outputs": [],
   "source": [
    "E_primaire_aviation_2019 = # EJ"
   ]
  },
  {
   "cell_type": "markdown",
   "metadata": {},
   "source": [
    "2. Calculez les émissions correspondantes, en incluant les émissions amont. Vous exprimerez votre résultat en MtCO2.\n",
    "\n",
    "> **Réponse**"
   ]
  },
  {
   "cell_type": "code",
   "execution_count": null,
   "metadata": {},
   "outputs": [],
   "source": [
    "CO2_aviation_2019 =  # MtCO2"
   ]
  },
  {
   "cell_type": "markdown",
   "metadata": {},
   "source": [
    "---\n",
    "\n",
    "## 1.2 Mix électrique et facteur d'émission\n",
    "\n",
    "Le fichier prod-elec.csv est une version nettoyée des [données de Our World In Data](https://ourworldindata.org/grapher/electricity-prod-source-stacked) qui donnent la quantité d'électricité en TWh produite par pays, par an et par \"matière première\". Ainsi, le fichier prod-elec.csv donne la production au niveau monde.\n",
    "\n",
    "1. Expliquez succinctement ce que fait chaque ligne de code ci-dessous.\n",
    "\n",
    "> **Réponse**"
   ]
  },
  {
   "cell_type": "code",
   "execution_count": null,
   "metadata": {},
   "outputs": [],
   "source": [
    "prod_elec = pd.read_csv(\"prod-elec.csv\")\n",
    "source_elec = ['charbon','gaz','hydro','autre','pv','petrole','eolien','nucleaire']\n",
    "prod_elec[source_elec] = prod_elec[source_elec] * 3.6/1000\n",
    "prod_elec['total'] = prod_elec[source_elec].sum(axis=1)\n",
    "source_elec_bc = ['hydro','autre','pv','eolien','nucleaire']\n",
    "prod_elec['total bc'] = prod_elec[source_elec_bc].sum(axis=1)\n",
    "for s in source_elec:\n",
    "    name = 'prop '+s\n",
    "    prod_elec[name] = prod_elec[s]/prod_elec['total']\n",
    "prod_elec.head()"
   ]
  },
  {
   "cell_type": "markdown",
   "metadata": {},
   "source": [
    "2. Expliquez et commentez les graphes ci-dessous.\n",
    "\n",
    "> **Réponse**"
   ]
  },
  {
   "cell_type": "code",
   "execution_count": null,
   "metadata": {},
   "outputs": [],
   "source": [
    "for s in source_elec:\n",
    "    plt.plot(prod_elec['annee'], prod_elec[s],label=s)\n",
    "plt.legend()\n",
    "plt.show()\n",
    "\n",
    "for s in source_elec:\n",
    "    plt.plot(prod_elec['annee'], prod_elec['prop '+s],label=s)\n",
    "plt.legend()\n",
    "plt.show()"
   ]
  },
  {
   "cell_type": "markdown",
   "metadata": {},
   "source": [
    "3. Récupérez dans le [5ème rapport d'évaluation du GIEC](https://www.ipcc.ch/site/assets/uploads/2018/02/ipcc_wg3_ar5_annex-iii.pdf) les données concernant les facteurs d'émission des différentes sources d'électricité (pour le pétrole vous prendrez 700 gCO2-eq/kWh)."
   ]
  },
  {
   "cell_type": "code",
   "execution_count": null,
   "metadata": {},
   "outputs": [],
   "source": [
    "facteurs_emission = pd.DataFrame(data=[])\n",
    "facteurs_emission.index = source_elec\n",
    "facteurs_emission = facteurs_emission.T\n",
    "facteurs_emission.head()"
   ]
  },
  {
   "cell_type": "markdown",
   "metadata": {},
   "source": [
    "4. En supposant que les facteurs d'émission sont restés constants, tracez l'évolution des émissions de CO2 et du facteur d'émission au cours du temps et commentez les courbes obtenues.\n",
    "\n",
    "> **Réponse**"
   ]
  },
  {
   "cell_type": "code",
   "execution_count": null,
   "metadata": {},
   "outputs": [],
   "source": [
    "prod_elec['CO2'] = prod_elec[source_elec].dot(facteurs_emission.T)\n",
    "prod_elec['fe'] = prod_elec['CO2']/prod_elec['total']\n",
    "prod_elec['CO2 bc'] = prod_elec[source_elec_bc].dot(facteurs_emission[source_elec_bc].T)\n",
    "prod_elec['fe bc'] = prod_elec['CO2 bc']/prod_elec['total bc']\n",
    "\n",
    "plt.plot(prod_elec['annee'], prod_elec['CO2'], label=\"Emissions CO2\")\n",
    "plt.plot(prod_elec['annee'], prod_elec['CO2 bc'], label=\"Emissions CO2 BC\")\n",
    "plt.legend()\n",
    "plt.show()\n",
    "\n",
    "plt.plot(prod_elec['annee'], prod_elec['fe'], label=\"Facteur emission\")\n",
    "plt.legend()\n",
    "plt.show()\n",
    "\n",
    "plt.plot(prod_elec['annee'], prod_elec['fe bc'], label=\"Facteur emission BC\")\n",
    "plt.legend()\n",
    "plt.show()"
   ]
  },
  {
   "cell_type": "markdown",
   "metadata": {},
   "source": [
    "Entre 2020 et 2050 on utilisera les données de l'IRENA.\n",
    "\n",
    "5. En vous inspirant des codes ci-dessus, rajoutez une colonne 'facteur emission 2018' et 'facteur emission 2050'"
   ]
  },
  {
   "cell_type": "code",
   "execution_count": null,
   "metadata": {},
   "outputs": [],
   "source": [
    "IRENA = pd.read_csv(\"BE-decarbo/IRENA.csv\")\n",
    "IRENA['facteur emission 2018'] = \n",
    "IRENA['facteur emission 2050'] = \n",
    "IRENA.head()"
   ]
  },
  {
   "cell_type": "markdown",
   "metadata": {},
   "source": [
    "La courbe suivante trace l'évolution du facteur d'émission avec une simple interpolation linéaire : nous nous en servirons dans la suite du BE."
   ]
  },
  {
   "cell_type": "code",
   "execution_count": null,
   "metadata": {},
   "outputs": [],
   "source": [
    "PES = IRENA.loc[(IRENA['Scenario']=='Planned Energy Scenario')].iloc[:,-2:].T\n",
    "TES = IRENA.loc[(IRENA['Scenario']=='Transforming Energy Scenario')].iloc[:,-2:].T\n",
    "scenario_15 = IRENA.loc[(IRENA['Scenario']=='1.5OC Scenario')].iloc[:,-2:].T\n",
    "x=[2018,2050]\n",
    "plt.plot(x,PES,label='PES')\n",
    "plt.plot(x,TES,label='TES')\n",
    "plt.plot(x,scenario_15,label='1.5')\n",
    "plt.legend()\n",
    "plt.show()"
   ]
  },
  {
   "cell_type": "markdown",
   "metadata": {},
   "source": [
    "---\n",
    "---\n",
    "# 2. Etude des nouveaux vecteurs énergétiques par rapport au contexte actuel"
   ]
  },
  {
   "cell_type": "markdown",
   "metadata": {},
   "source": [
    "---\n",
    "## 2.1 Avion à hydrogène\n",
    "\n",
    "Comme pour l'avion tout électrique, on imagine que tous les avions sont instantanément remplacés par des avions à hydrogène et on cherche à comprendre l'impact sur l'énergie et les émissions.\n",
    "\n",
    "### 2.1.1 Préliminaires : efficacité et liquéfaction\n",
    "\n",
    "\n",
    "\n",
    "1. Choisissez et justifiez succinctement **une seule** valeur d'évolution du besoin en énergie embarquée, que vous utiliserez par la suite (un choix subjectif est parfaitement acceptable).\n",
    "\n",
    "> **Réponse**"
   ]
  },
  {
   "cell_type": "code",
   "execution_count": null,
   "metadata": {},
   "outputs": [],
   "source": []
  },
  {
   "cell_type": "markdown",
   "metadata": {},
   "source": [
    "2. Calculez la quantité d'hydrogène nécessaire pour alimenter l'intégralité de la flotte. Comparez par rapport à la production d'hydrogène en 2020 et commentez ce résultat."
   ]
  },
  {
   "cell_type": "code",
   "execution_count": null,
   "metadata": {},
   "outputs": [],
   "source": []
  },
  {
   "cell_type": "markdown",
   "metadata": {},
   "source": [
    "3. Avec les hypothèses que vous avez choisies, calculez la quantité d'électricité nécessaire pour liquéfier l'hydrogène."
   ]
  },
  {
   "cell_type": "code",
   "execution_count": null,
   "metadata": {},
   "outputs": [],
   "source": []
  },
  {
   "cell_type": "markdown",
   "metadata": {},
   "source": [
    "### 2.1.2 Méthodes de production actuelles\n",
    "\n",
    "\n",
    "1. Comparez le facteur d'émission actuel (10 kgCO2/10 kgH2) aux émissions dues à la production d'hydrogène par vaporéformage du gaz naturel et par gaséification du charbon, et commentez le résultat obtenu."
   ]
  },
  {
   "cell_type": "code",
   "execution_count": null,
   "metadata": {},
   "outputs": [],
   "source": []
  },
  {
   "cell_type": "markdown",
   "metadata": {},
   "source": [
    "2. En supposant que tous les avions actuels sont remplacés par des avions à hydrogène produit avec les méthodes actuelles de production et en utilisant le mix électrique actuel, calculez la quantité d'électricité nécessaire, ainsi que les émissions de CO2 correspondantes. Commentez les résultats obtenus.\n",
    "\n",
    "> **Réponse**"
   ]
  },
  {
   "cell_type": "code",
   "execution_count": null,
   "metadata": {},
   "outputs": [],
   "source": []
  },
  {
   "cell_type": "markdown",
   "metadata": {},
   "source": [
    "### 2.1.3 Production par électrolyse\n",
    "\n",
    "On suppose maintenant que l'hydrogène est produit par électrolyse de l'eau.\n",
    "\n",
    "1. Calculez la quantité d'électricité nécessaire. Comparez-la à la quantité d'électricité produite actuellement, et à la quantité d'électricité produite de manière bas carbone et commentez les résultats obtenus.\n",
    "\n",
    "> **Réponse**"
   ]
  },
  {
   "cell_type": "code",
   "execution_count": null,
   "metadata": {},
   "outputs": [],
   "source": []
  },
  {
   "cell_type": "markdown",
   "metadata": {},
   "source": [
    "2. Calculez l'évolution des émissions de CO2 selon que l'on utilise le mix actuel ou un mix bas-carbone, et commentez les résultats obtenus.\n",
    "\n",
    "> **Réponse**"
   ]
  },
  {
   "cell_type": "code",
   "execution_count": null,
   "metadata": {},
   "outputs": [],
   "source": []
  },
  {
   "cell_type": "markdown",
   "metadata": {},
   "source": [
    "3. Quel facteur d'émission faudrait-il atteindre, et quand cela aurait-il lieu dans les scénarios de l'IRENA ? Commentez les résultats obtenus."
   ]
  },
  {
   "cell_type": "code",
   "execution_count": null,
   "metadata": {},
   "outputs": [],
   "source": []
  },
  {
   "cell_type": "markdown",
   "metadata": {},
   "source": [
    "---\n",
    "## 2.2 Electrocarburants\n",
    "\n",
    "On suppose maintenant que l'ensemble de la flotte est alimentée par des électrocarburants. A partir de quelle valeur du facteur d'émission de l'électricité devient-il intéressant de remplacer le kérosène fossile par des électrocarburants ? Commentez les résultats obtenus.\n",
    "\n",
    "> **Réponse**"
   ]
  },
  {
   "cell_type": "code",
   "execution_count": null,
   "metadata": {},
   "outputs": [],
   "source": []
  },
  {
   "cell_type": "markdown",
   "metadata": {},
   "source": [
    "---\n",
    "## 2.3 Biocarburants\n",
    "\n",
    "Dans un premier temps, on suppose que la sélectivité vaut 100%, ie, que les voies de production considérées produisent 100% de biokérosène.\n",
    "\n",
    "1. Quelle serait la demande en biomasse si toute la flotte de 2019 utilisait des biocarburants ? Vous considérerez trois cas distincts selon que les biocarburants sont produits par la voie HEFA, FT ou AtJ.\n",
    "\n",
    "> **Réponse**"
   ]
  },
  {
   "cell_type": "code",
   "execution_count": null,
   "metadata": {},
   "outputs": [],
   "source": []
  },
  {
   "cell_type": "markdown",
   "metadata": {},
   "source": [
    "2. Comparez ces chiffres à la bioénergie disponible en 2020 et commentez les résultats obtenus. Vous pourrez affiner votre réponse en utilisant la répartition suivante : 10% cultures lipidiques, 30% cultures glucidiques et 40% cultures lignocellulosiques.\n",
    "\n",
    "> **Réponse**"
   ]
  },
  {
   "cell_type": "code",
   "execution_count": null,
   "metadata": {},
   "outputs": [],
   "source": []
  },
  {
   "cell_type": "markdown",
   "metadata": {},
   "source": [
    "3. Calculez les émissions correspondantes en considérant les plages de valeurs suivantes pour les facteurs d'émission exprimées en gCO2/MJ (1er quartile - médiane - 3ème quartile) :\n",
    "    * FT : 0,3 - 7,7 - 12,6\n",
    "    * HEFA à partir d'huiles : 20,7\n",
    "    * HEFA à partir de culture : 42,1 - 61 - 73,9\n",
    "    * AtJ : 33,7 - 52,2 - 68,4\n",
    "\n",
    "> **Réponse**"
   ]
  },
  {
   "cell_type": "code",
   "execution_count": null,
   "metadata": {},
   "outputs": [],
   "source": []
  },
  {
   "cell_type": "markdown",
   "metadata": {},
   "source": [
    "On souhaite maintenant prendre en compte la sélectivité.\n",
    "\n",
    "4. Quelle est qualitativement l'influence de la sélectivité sur les calculs précédents ?\n",
    "\n",
    "> **Réponse**\n",
    "\n",
    "5. Reprenez les questions précédentes en prenant en compte la sélectivité, uniquement pour la voie FT et en considérant la valeur médiane du facteur d'émission.\n",
    "\n",
    "> **Réponse**"
   ]
  },
  {
   "cell_type": "code",
   "execution_count": null,
   "metadata": {},
   "outputs": [],
   "source": []
  },
  {
   "cell_type": "markdown",
   "metadata": {},
   "source": [
    "## 3.4 (PARTIE OPTIONNELLE) Avion tout électrique\n",
    "\n",
    "Imaginons que tous les avions deviennent des avions tout électrique. Pour les calculs suivants, vous utiliserez:\n",
    "- pour la production d'électricité : les valeurs calculées dans la partie 1\n",
    "- pour l'avion électrique : les chiffres présentés dans le cours issus de l'article de Gnadt et al.\n",
    "\n",
    " \n",
    "\n",
    "1. Combien d'électricité faudrait-il **produire** ? Vous prendrez soin d'expliquer votre calcul, les termes que vous avez pris en compte ou non ainsi que les valeurs que vous avez choisies. Comparez cette valeur à la quantité d'électricité totale et à la quantité d'électricité bas carbone et commentez les résultats obtenus.\n",
    "\n",
    "> **Réponse**"
   ]
  },
  {
   "cell_type": "code",
   "execution_count": null,
   "metadata": {},
   "outputs": [],
   "source": []
  },
  {
   "cell_type": "markdown",
   "metadata": {},
   "source": [
    "2. Avec le mix électrique mondial actuel, quelle serait l'évolution des émissions de CO2 ? et avec un mix électrique bas carbone ? Commentez les résultats obtenus.\n",
    "\n",
    "> **Réponse**"
   ]
  },
  {
   "cell_type": "code",
   "execution_count": null,
   "metadata": {},
   "outputs": [],
   "source": []
  },
  {
   "cell_type": "markdown",
   "metadata": {},
   "source": [
    "3. En utilisant l'extrapolation linéaire issue des prévisions de l'IRENA, calculer la valeur du mix électrique mondial pour que cette solution devienne intéressante, et la date (année) correspondante. Comparez par rapport aux résultats de Gnadt et al et commentez.\n",
    "\n",
    "> **Réponse**"
   ]
  },
  {
   "cell_type": "code",
   "execution_count": null,
   "metadata": {},
   "outputs": [],
   "source": []
  },
  {
   "cell_type": "markdown",
   "metadata": {},
   "source": [
    "---\n",
    "---\n",
    "# 3 Scénarios à horizon 2050\n",
    "\n",
    "Dans toute cette partie on suppose que le trafic croît de 3% par an sans prise en compte de la crise COVID, donc une évolution du trafic à partir de 2019. On considère quatre scénarios en 2050:\n",
    "1. Scénario tendanciel : en 2050, la flotte est constituée à 100% d'avions conventionnels. D'ici là, l'amélioration de la consommation (efficacité et opération) s'élève à 1,5% par an\n",
    "2. Scénario biocarburant : idem que scénario tendanciel, mais en 2050 toute la flotte utilise des biocarburants\n",
    "3. Scénario électrocarburant : idem que scénario tendanciel, mais en 2050 toute la flotte utilise des électrocarburants\n",
    "4. Scénario hydrogène : en 2050 toute la flotte utilise de l'hydrogène\n",
    "\n",
    "\n",
    "1. Pour le scénario biocarburant, faites un choix de voie de production et de facteur d'émission, que vous justifierez succinctement. Dans le reste du BE, vous garderez ce choix.\n",
    "\n",
    "> **Réponse**\n",
    "\n",
    "2. Calculez pour chacun des scénarios la quantité d'énergie embarquée nécessaire.\n",
    "\n",
    "> **Réponse**"
   ]
  },
  {
   "cell_type": "code",
   "execution_count": null,
   "metadata": {},
   "outputs": [],
   "source": []
  },
  {
   "cell_type": "markdown",
   "metadata": {},
   "source": [
    "3. Calculez pour chacun des scénarios les émissions de CO2 associées en 2050.\n",
    "\n",
    "> **Réponse**"
   ]
  },
  {
   "cell_type": "code",
   "execution_count": null,
   "metadata": {},
   "outputs": [],
   "source": []
  },
  {
   "cell_type": "markdown",
   "metadata": {},
   "source": [
    "4. Calculez pour chacun des scénarios la quantité d'énergie primaire (électricité ou bioénergie) nécessaire.\n",
    "\n",
    "> **Réponse**"
   ]
  },
  {
   "cell_type": "code",
   "execution_count": null,
   "metadata": {},
   "outputs": [],
   "source": []
  },
  {
   "cell_type": "markdown",
   "metadata": {},
   "source": [
    "5. A partir des données suivantes (issues de l'IRENA), faites un choix de disponibilité en bioénergie en 2050. Comparez la quantité de bioénergie calculée à la question précédente à cette valeur, et commentez le résultat.\n",
    "\n",
    "> **Réponse**"
   ]
  },
  {
   "cell_type": "code",
   "execution_count": null,
   "metadata": {},
   "outputs": [],
   "source": [
    "dispo_bio = pd.read_csv(\"dispo-bio-2050.csv\")\n",
    "dispo_bio.boxplot()\n",
    "print(dispo_bio.median())"
   ]
  },
  {
   "cell_type": "markdown",
   "metadata": {},
   "source": [
    "6. A partir des données suivantes (issues de scénarios prospectifs du GIEC, de l'IRENA, de l'AIE et de Shell), faites un choix de disponibilité en électricité en 2050. Comparez la quantité d'électricité calculée à la question précédente à cette valeur, et commentez le résultat.\n",
    "\n",
    "> **Réponse**"
   ]
  },
  {
   "cell_type": "code",
   "execution_count": null,
   "metadata": {},
   "outputs": [],
   "source": [
    "dispo_elec = pd.read_csv(\"dispo-elec-2050.csv\")\n",
    "dispo_elec.boxplot(column=['prod elec 2050'])\n",
    "print(dispo_elec['prod elec 2050'].median())"
   ]
  },
  {
   "cell_type": "markdown",
   "metadata": {},
   "source": [
    "7. Au vu des calculs précédents, proposez un scénario pour l'aviation à 2050 en terme de proportion d'hydrogène, de biocarburant, d'électrocarburant et de kérosène fossile. Vous justifierez sommairement votre choix, pour lequel vous calculerez le besoin en énergie \"primaire\" (pétrole, électricité et bioénergie) et ce qu'il représente en terme de disponibilité. Calculez aussi les émissions de CO2 associées et commentez les résultats obtenus.\n",
    "\n",
    "> **Réponse**"
   ]
  },
  {
   "cell_type": "code",
   "execution_count": null,
   "metadata": {},
   "outputs": [],
   "source": []
  }
 ],
 "metadata": {
  "kernelspec": {
   "display_name": "Python 3",
   "language": "python",
   "name": "python3"
  },
  "language_info": {
   "codemirror_mode": {
    "name": "ipython",
    "version": 3
   },
   "file_extension": ".py",
   "mimetype": "text/x-python",
   "name": "python",
   "nbconvert_exporter": "python",
   "pygments_lexer": "ipython3",
   "version": "3.7.4"
  }
 },
 "nbformat": 4,
 "nbformat_minor": 5
}
