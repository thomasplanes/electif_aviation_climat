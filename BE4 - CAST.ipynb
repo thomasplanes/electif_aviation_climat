{
 "cells": [
  {
   "cell_type": "markdown",
   "id": "109cea4e-d42f-4359-902e-2e489b3a49a8",
   "metadata": {},
   "source": [
    "# **Partie 4 : Simulation et évaluation de scénarios durables pour l'aviation avec l'outil CAST**\n",
    "<a id=\"0\"></a>\n",
    "\n",
    "Suite à vos différentes estimations technologiques lors des deux BE précédents, l'objectif de ce Notebook est de modéliser et d'évaluer des scénarios de transition pour le secteur aérien. Pour cela, l'outil CAST sera utilisé : il permet de simuler des scénarios prospectifs pour l’aviation et d’évaluer leur durabilité climatique et énergétique. Différents modes d’utilisation, plus ou moins complexes, sont disponibles sur CAST et vont être explorés dans cette partie :\n",
    "- Découverte : l'utilisateur déplace des curseurs représentatifs pour simuler des scénarios pour l'aviation ; ce mode permet de bien comprendre les sensibilités des principaux leviers d'action\n",
    "- Scénarios : l'utilisateur affiche des scénarios déjà définis et paramétrés ; il s'agit du mode le plus simple d'utilisation\n",
    "- Expert : l'utilisateur rentre directement des valeurs pour les différents paramètres des modèles ; il s'agit du mode à utiliser pour élaborer plus finement des scénarios pour l'aviation\n",
    "\n",
    "\n",
    "Sommaire :<br>\n",
    "[1. Tutoriel](#1)<br>\n",
    "[2. Simulation et évaluation de votre scénario de référence](#2)<br>\n",
    "[3. Analyse de sensibilité et commentaires](#3)<br>\n",
    "-----\n",
    "-----"
   ]
  },
  {
   "cell_type": "markdown",
   "id": "4c00c75d-8709-40d3-bbf2-7ebeb9d28013",
   "metadata": {
    "tags": []
   },
   "source": [
    "## 1. Tutoriel\n",
    "<a id=\"1\"></a>\n",
    "\n",
    "L'objectif de cette partie est de prendre en main les bases de l'outil CAST. Les modes Scénarios et Découverte sont utilisés.\n",
    "\n",
    "-----\n",
    "\n",
    "### 1.1. Procédure de lancement de CAST\n",
    "\n",
    "Pour lancer CAST, réalisez la procédure de lancement en rentrant les commandes suivantes (sous un ordinateur fixe démarré sous Linux).\n",
    "\n",
    "<img src=\"Images/Lancement_CAST.png\" width=\"700\">\n",
    "\n",
    "-----\n",
    "### 1.2. Prise en main de l'outil CAST\n",
    "\n",
    "L’objectif de cette partie est d’utiliser les fonctions basiques de CAST pour analyser la durabilité climatique d’un scénario industriel, représenté sur la Figure 1. Les analyses seront faites pour +1,5°C et +2°C, avec des budgets carbone médians et sans considérer l’utilisation de stratégies de capture et stockage du carbone. Le mode Scénarios est utilisé.\n",
    "\n",
    "<img src=\"Images/ATAG.png\" width=\"500\">\n",
    "\n",
    "Sélectionnez le scénario « ATAG 2009 ». \n",
    "\n",
    "Dans un premier temps, seules les émissions de CO<sub>2</sub> sont considérées. Sélectionnez le graphe « Trajectoire des émissions globales de CO<sub>2</sub> ». Quelle part du budget carbone mondial devrait-t-on allouer à l’aviation pour que le scénario soit considéré comme durable ? Commentez.\n",
    "\n",
    "Dans un second temps, l’analyse est étendue aux effets non-CO<sub>2</sub>. Sélectionnez le graphe « Trajectoire du forçage radiatif effectif global ». Quelle part du budget carbone équivalent mondial devrait-t-on allouer à l’aviation pour que le scénario soit considéré comme durable ? Commentez."
   ]
  },
  {
   "cell_type": "markdown",
   "id": "80b1d4e7-c3f8-44a7-8a6f-6a3c0f261d9e",
   "metadata": {},
   "source": [
    "> **Réponses**"
   ]
  },
  {
   "cell_type": "markdown",
   "id": "471b9844-d981-44e7-8dca-bd6806427bc6",
   "metadata": {},
   "source": [
    "-----\n",
    "### 1.3. Analyse de scénarios illustratifs\n",
    "\n",
    "Dans cette partie, différents scénarios durables pour l’aviation vont être modélisés. Le tableau récapitulatif en 1.3.5. sera complété. La température de référence considérée sera +2°C, avec 67% de chance de réussite et sans considérer l’utilisation de stratégies de capture et stockage du carbone. L'impact de la crise sanitaire Covid-19 sera pris en compte. Le mode Découverte est utilisé.\n",
    "\n",
    "#### 1.3.1. Définition de 3 scénarios technoogiques de référence\n",
    "\n",
    "De nombreuses incertitudes demeurent sur les évolutions technologiques à venir pour les nouvelles générations d’avions. D’une part, des limites technologiques commencent à apparaître, par exemple sur les rendements de motorisation. D’autre part, des ruptures technologiques, comme les architectures de type aile volante, pourraient émerger ce qui permettrait de réduire significativement la consommation des avions. Par conséquent, il est difficile de prévoir l’évolution des émissions des avions pour les décennies à venir.\n",
    "\n",
    "Trois scénarios de référence concernant les leviers d’action technologiques sont définis dans le tableau en annexe. Estimez les émissions moyennes de CO<sub>2</sub> par passager-kilomètre pour la flotte d’avions en 2050 et complétez le tableau récapitulatif.\n",
    "\n",
    "#### 1.3.2. Analyse des scénarios climatiques (uniquement CO<sub>2</sub>)\n",
    "\n",
    "Les analyses se limiteront tout d'abord aux émissions de CO<sub>2</sub> de l’aviation.\n",
    "\n",
    "##### 1.3.2.1. Démarche 1 : Détermination de la part du budget carbone nécessaire\n",
    "\n",
    "On choisit de considérer une croissance tendancielle du trafic aérien, à savoir 3% par an.\n",
    "\n",
    "Pour chaque scénario, on cherche à équilibrer les émissions cumulées de CO<sub>2</sub> obtenues avec un budget carbone. Déterminez alors la part du budget carbone mondial qu’il faudrait allouer à l’aviation dans chaque cas.\n",
    "\n",
    "Complétez le tableau récapitulatif et commentez la plage de variation que vous obtenez. Quels sont les avantages/inconvénients de cette démarche ?\n",
    "\n",
    "\n",
    "##### 1.3.2.2. Démarche 2 : Détermination de l'évolution durable du trafic aérien\n",
    "\n",
    "On choisit cette fois-ci d’allouer 2,6% du budget carbone mondial à l’aviation (part de l’aviation dans les émissions mondiales de CO<sub>2</sub> en 2019).\n",
    "\n",
    "Pour chacun des scénarios technologiques, déterminez le taux de (dé)croissance annuel du trafic aérien pour équilibrer les émissions cumulées de CO<sub>2</sub> de l’aviation avec le budget carbone alloué à l’aviation.\n",
    "\n",
    "Complétez le tableau récapitulatif et commentez la plage de variation que vous obtenez. Quels sont les avantages/inconvénients de cette démarche ?"
   ]
  },
  {
   "cell_type": "markdown",
   "id": "389a80a0-3d22-488c-b8d0-450ad17f3104",
   "metadata": {},
   "source": [
    "> **Réponses**"
   ]
  },
  {
   "cell_type": "markdown",
   "id": "b71016cc-58a2-46ab-a873-373fafbf6436",
   "metadata": {},
   "source": [
    "#### 1.3.3. Analyse des scénarios climatiques (CO<sub>2</sub> et non-CO<sub>2</sub>)\n",
    "\n",
    "Dans la suite, les différents scénarios technologiques de référence et les taux de (dé)croissance associés issus de la démarche 2 seront conservés.\n",
    "\n",
    "Dans la partie précédente, seules les émissions de CO<sub>2</sub> ont été considérées pour définir des trajectoires durables. L’objectif de cette partie est de généraliser le raisonnement précédent aux effets non-CO<sub>2</sub>. Pour cela, la notion d’émissions équivalentes de CO<sub>2</sub> est utilisée. Dans cette partie, on alloue 5,5% du budget carbone équivalent mondial à l’aviation (part de l’aviation sur l’évolution de l’ERF mondial sur la période 2005-2011).\n",
    "\n",
    "Des stratégies spécifiques sur les effets non-CO<sub>2</sub> peuvent être mises en place, par exemple pour réduire la formation des traînées de condensation. Deux hypothèses sont considérées ici :\n",
    "- Aucune stratégie spécifique n’est mise en place\n",
    "- Des stratégies opérationnelles sont mises en place (réglage « Réaliste » du mode Découverte)\n",
    "\n",
    "En sélectionnant le graphe « Trajectoire du forçage radiatif global », vérifiez ou non la soutenabilité climatique des différents scénarios de référence de la partie précédente, pour les deux hypothèses précédentes. Complétez le tableau récapitulatif et analysez vos résultats.\n",
    "\n",
    "\n",
    "#### 1.3.4. Analyse des scénarios énergétiques\n",
    "\n",
    "Les analyses précédentes montrent que, pour un budget carbone fixé, les améliorations technologiques permettent d’assurer un niveau de trafic aérien plus important. Certaines de ces stratégies se basent notamment sur l’utilisation de carburants bas-carbone en remplacement du kérosène. Néanmoins, des limites demeurent sur la disponibilité de ces ressources énergétiques.\n",
    "\n",
    "Pour illustrer ce problème, on suppose ici que les carburants bas-carbone utilisés sont des biocarburants issus de la biomasse. L’hydrogène et les électrocarburants ne sont pas pris en compte dans cette étude. On considère ensuite que 150 EJ de biomasse seront disponibles à horizon 2050 dans le monde. Enfin, on suppose que le rendement pour obtenir des biocarburants via la biomasse est de 50%.\n",
    "\n",
    "Pour chaque scénario de référence, déterminez la quantité d’énergie nécessaire en 2050 issue des biocarburants. Estimez alors la part de la biomasse mondial nécessaire. Complétez le tableau récapitulatif et commentez."
   ]
  },
  {
   "cell_type": "markdown",
   "id": "b42dcb5f-f448-4b9a-89c4-04e0d90c803d",
   "metadata": {},
   "source": [
    "> **Réponses**"
   ]
  },
  {
   "cell_type": "markdown",
   "id": "2d8b9171-da63-4d43-a69d-fc09304f0826",
   "metadata": {},
   "source": [
    "#### 1.3.5. Tableau récapitulatif\n",
    "<a id=\"10\"></a>\n",
    "\n",
    "Vous trouverez ci-dessous le tableau récapitulatif dont vous deverez compléter les cellules indiquées (HERE)."
   ]
  },
  {
   "cell_type": "markdown",
   "id": "fc45b40d-fab3-4fbb-864c-0096c430707a",
   "metadata": {},
   "source": [
    "|Type|Nom de la variable dans CAST|Scénario 1|Scénario 2|Scénario 3|Unité|Description|Remarque|\n",
    "|--|--|--|--|--|--|--|--|\n",
    "|Paramètres technologiques|Efficacité|Tendanciel|Peu ambitieux|Ambitieux|/|Réglage en mode Découverte du curseur concernant l'amélioration de l'efficacité énergétique des avions|/|\n",
    "|Paramètres technologiques|Opérations|Pessimiste|Réaliste|Optimiste|/|Réglage en mode Découverte du curseur concernant l'amélioration des opérations en vol et au sol|/|\n",
    "|Paramètres technologiques|Remplissage|Tendanciel|Peu ambitieux|Ambitieux|/|Réglage en mode Découverte du curseur concernant l'amélioration du taux de remplissage des avions|/|\n",
    "|Paramètres technologiques|Énergie|0%|50%|100%|/|Réglage en mode Découverte du curseur concernant la part de la flotte qui aura accès à des carburants bas-carbone en 2050|/|\n",
    "|Résultats CO2|/|HERE|HERE|HERE|[gCO2eq/RPK]|Émissions moyennes de CO2 par passager-kilomètre pour la flotte d'avions en 2050|À lire sur la courbe \"Émissions de CO2 par pkm\"|\n",
    "|Résultats CO2|/|HERE|HERE|HERE|[%]|Part du budget carbone à allouer à l'aviation pour une croissance annuelle de 3%|Vous pouvez directement lire la valeur sur le camembert central|\n",
    "|Résultats CO2|Trafic|HERE|HERE|HERE|[%]|Taux de (dé)croissance annuel du trafic aérien pour équilibrer avec le budget carbone (2,6% d'allocation)|/|\n",
    "|Résultats non-CO2|/|HERE|HERE|HERE|[%]|Part du budget carbone équivalent à allouer à l'aviation sans stratégies contre les contrails|Vous pouvez directement lire la valeur sur l'histogramme central|\n",
    "|Résultats non-CO2|/|HERE|HERE|HERE|[%]|Part du budget carbone équivalent à allouer à l'aviation avec stratégies opérationnelles contre les contrails|Vous pouvez directement lire la valeur sur l'histogramme central|\n",
    "|Résultats énergie|/|HERE|HERE|HERE|[Mtoe]|Énergie sous forme de biocarburants consommée par l'aviation en 2050, exprimée en Mtoe|À retrouver via la consommation énergétique globale et la part de la flotte bas-carbone|\n",
    "|Résultats énergie|/|HERE|HERE|HERE|[EJ]|Énergie sous forme de biocarburants consommée par l'aviation en 2050, exprimée en EJ|1 Mtoe = 0,0419 EJ|\n",
    "|Résultats énergie|/|HERE|HERE|HERE|[%]|Part de la biomasse nécessaire pour l'aviation en 2050|/|"
   ]
  },
  {
   "cell_type": "markdown",
   "id": "acb022ab-0b4f-4bad-a3f9-db2a02097d05",
   "metadata": {},
   "source": [
    "-----\n",
    "-----\n",
    "## 2. Simulation et évaluation de votre scénario de référence\n",
    "<a id=\"2\"></a>\n",
    "\n",
    "Maintenant que vous avez découvert les principales fonctionnalités de CAST, vous allez pouvoir simuler et évaluer votre propre scénario de référence. Pour cela, vous allez utiliser le mode Expert de CAST. Différentes variables devront être réglées en fonction des choix que vous avez fait dans les précédents BE. Pour les variables que vous n'avez pas étudié durant les précédents BE, vous pouvez considérer les valeurs médianes proposées.\n",
    "\n",
    "Le scénario que vous avez défini est-il durable d'un point de vue climatique ? D'un point de vue énergétique ? Commentez."
   ]
  },
  {
   "cell_type": "markdown",
   "id": "98e2eb6b-2638-4d52-8ae1-94a9a586c2ff",
   "metadata": {},
   "source": [
    "> **Réponses**"
   ]
  },
  {
   "cell_type": "code",
   "execution_count": 1,
   "id": "e27cbeed-a647-4932-b81d-8a50282a9798",
   "metadata": {
    "tags": []
   },
   "outputs": [
    {
     "ename": "ModuleNotFoundError",
     "evalue": "No module named 'cast'",
     "output_type": "error",
     "traceback": [
      "\u001b[1;31m---------------------------------------------------------------------------\u001b[0m",
      "\u001b[1;31mModuleNotFoundError\u001b[0m                       Traceback (most recent call last)",
      "\u001b[1;32m~\\AppData\\Local\\Temp\\ipykernel_16756\\1928929640.py\u001b[0m in \u001b[0;36m<cell line: 3>\u001b[1;34m()\u001b[0m\n\u001b[0;32m      1\u001b[0m \u001b[1;32mimport\u001b[0m \u001b[0mwarnings\u001b[0m\u001b[1;33m\u001b[0m\u001b[1;33m\u001b[0m\u001b[0m\n\u001b[0;32m      2\u001b[0m \u001b[0mwarnings\u001b[0m\u001b[1;33m.\u001b[0m\u001b[0msimplefilter\u001b[0m\u001b[1;33m(\u001b[0m\u001b[0maction\u001b[0m\u001b[1;33m=\u001b[0m\u001b[1;34m'ignore'\u001b[0m\u001b[1;33m,\u001b[0m \u001b[0mcategory\u001b[0m\u001b[1;33m=\u001b[0m\u001b[0mWarning\u001b[0m\u001b[1;33m)\u001b[0m\u001b[1;33m\u001b[0m\u001b[1;33m\u001b[0m\u001b[0m\n\u001b[1;32m----> 3\u001b[1;33m \u001b[1;32mfrom\u001b[0m \u001b[0mcast\u001b[0m\u001b[1;33m.\u001b[0m\u001b[0mcore\u001b[0m\u001b[1;33m.\u001b[0m\u001b[0mprocess\u001b[0m \u001b[1;32mimport\u001b[0m \u001b[0mCastProcess\u001b[0m\u001b[1;33m\u001b[0m\u001b[1;33m\u001b[0m\u001b[0m\n\u001b[0m\u001b[0;32m      4\u001b[0m \u001b[0mprocess\u001b[0m \u001b[1;33m=\u001b[0m \u001b[0mCastProcess\u001b[0m\u001b[1;33m(\u001b[0m\u001b[1;33m)\u001b[0m\u001b[1;33m\u001b[0m\u001b[1;33m\u001b[0m\u001b[0m\n",
      "\u001b[1;31mModuleNotFoundError\u001b[0m: No module named 'cast'"
     ]
    }
   ],
   "source": [
    "import warnings\n",
    "warnings.simplefilter(action='ignore', category=Warning)\n",
    "from cast.core.process import CastProcess\n",
    "process = CastProcess()"
   ]
  },
  {
   "cell_type": "code",
   "execution_count": null,
   "id": "8874af93-5f51-4763-a823-67a0dc852ae1",
   "metadata": {},
   "outputs": [],
   "source": [
    "# Evolution du trafic aérien par catégorie et par décennie [%]\n",
    "process.parameters.growth_rate_2020_2030_short_range = 3.0\n",
    "process.parameters.growth_rate_2030_2040_short_range = 3.0\n",
    "process.parameters.growth_rate_2040_2050_short_range = 3.0\n",
    "process.parameters.growth_rate_2020_2030_medium_range = 3.0\n",
    "process.parameters.growth_rate_2030_2040_medium_range = 3.0\n",
    "process.parameters.growth_rate_2040_2050_medium_range = 3.0\n",
    "process.parameters.growth_rate_2020_2030_long_range = 3.0\n",
    "process.parameters.growth_rate_2030_2040_long_range = 3.0\n",
    "process.parameters.growth_rate_2040_2050_long_range = 3.0"
   ]
  },
  {
   "cell_type": "code",
   "execution_count": null,
   "id": "7db8993e-204b-4c77-b232-d3687b89b45a",
   "metadata": {},
   "outputs": [],
   "source": [
    "# Amélioration de l'efficacité énergétique des avions via le taux de remplissage\n",
    "\n",
    "## Valeur du taux de remplissage en 2050 [%]\n",
    "process.parameters.load_factor_end_year = 85"
   ]
  },
  {
   "cell_type": "code",
   "execution_count": null,
   "id": "20738344-a807-4df9-945e-4b4f4b6aeb5a",
   "metadata": {},
   "outputs": [],
   "source": [
    "# Amélioration de l'efficacité énergétique des avions via le renouvellement de flotte\n",
    "\n",
    "## Avions de type Drop-in Fuel\n",
    "## Amélioration annuelle moyenne par catégorie [%]\n",
    "process.parameters.energy_per_ask_short_range_dropin_fuel_gain = 2.0\n",
    "process.parameters.energy_per_ask_medium_range_dropin_fuel_gain = 2.0\n",
    "process.parameters.energy_per_ask_long_range_dropin_fuel_gain = 2.0\n",
    "\n",
    "## Avions de type Hydrogène\n",
    "### Valeurs pour régler les fonctions sigmoïdes par catégorie\n",
    "process.parameters.hydrogen_final_market_share_short_range = 20.0  # [%]\n",
    "process.parameters.hydrogen_introduction_year_short_range = 2051\n",
    "process.parameters.hydrogen_final_market_share_medium_range = 20.0  # [%]\n",
    "process.parameters.hydrogen_introduction_year_medium_range = 2051\n",
    "process.parameters.hydrogen_final_market_share_long_range = 20.0  # [%]\n",
    "process.parameters.hydrogen_introduction_year_long_range = 2051\n",
    "process.parameters.fleet_renewal_duration = 25.0\n",
    "### Amélioration annuelle moyenne par catégorie [%]\n",
    "process.parameters.energy_per_ask_short_range_hydrogen_gain = 2.0\n",
    "process.parameters.energy_per_ask_medium_range_hydrogen_gain = 2.0\n",
    "process.parameters.energy_per_ask_long_range_hydrogen_gain = 2.0"
   ]
  },
  {
   "cell_type": "code",
   "execution_count": null,
   "id": "b6a9a27f-546a-48fe-8b83-64181d36216a",
   "metadata": {},
   "outputs": [],
   "source": [
    "# Amélioration de l'efficacité énergétique des avions via les opérations\n",
    "\n",
    "## Valeurs pour régler la fonction sigmoïde\n",
    "process.parameters.operations_final_gain = 10.0  # [%]\n",
    "process.parameters.operations_start_year = 2030\n",
    "process.parameters.operations_duration = 30.0"
   ]
  },
  {
   "cell_type": "code",
   "execution_count": null,
   "id": "78be3f76-7084-4d54-bdbb-43277d6db679",
   "metadata": {},
   "outputs": [],
   "source": [
    "# Introduction de carburants drop-in alternatifs\n",
    "\n",
    "## Part des carburants dans le mix des carburants drop-in (le reste étant complété par du kérosène) [%]\n",
    "process.parameters.biofuel_share_2030 = 0.0\n",
    "process.parameters.biofuel_share_2040 = 0.0\n",
    "process.parameters.biofuel_share_2050 = 20.0\n",
    "process.parameters.electrofuel_share_2030 = 0.0\n",
    "process.parameters.electrofuel_share_2040 = 0.0\n",
    "process.parameters.electrofuel_share_2050 = 30.0"
   ]
  },
  {
   "cell_type": "code",
   "execution_count": null,
   "id": "84217094-d6b0-4f7c-a46f-a773ef2f421b",
   "metadata": {},
   "outputs": [],
   "source": [
    "# Limites environnementales\n",
    "\n",
    "## Budgets carbone [GtCO2]\n",
    "process.parameters.net_carbon_budget = 900.\n",
    "process.parameters.carbon_dioxyde_removal_2100 = 100.\n",
    "\n",
    "## Ressources énergétiques disponibles en 2050 [EJ]\n",
    "process.parameters.waste_biomass = 12\n",
    "process.parameters.crops_biomass = 63\n",
    "process.parameters.forest_residues_biomass = 17\n",
    "process.parameters.agricultural_residues_biomass = 57\n",
    "process.parameters.algae_biomass = 15\n",
    "process.parameters.available_electricity = 300."
   ]
  },
  {
   "cell_type": "code",
   "execution_count": null,
   "id": "dbebc254-dbb6-469e-b277-e3036cf581cf",
   "metadata": {},
   "outputs": [],
   "source": [
    "# Règles d'allocation\n",
    "\n",
    "## Part allouée à l'aviation du budget carbone (équivalent) [%]\n",
    "process.parameters.aviation_carbon_budget_allocated_share = 2.6\n",
    "process.parameters.aviation_equivalentcarbonbudget_allocated_share = 5.1\n",
    "\n",
    "## Part allouée à l'aviation des ressources énergétiques (biomasse et électricité) [%]\n",
    "process.parameters.aviation_biomass_allocated_share = 3.\n",
    "process.parameters.aviation_electricity_allocated_share = 3."
   ]
  },
  {
   "cell_type": "code",
   "execution_count": null,
   "id": "45cea4e2-1c74-4cae-be00-8d1e9af516d5",
   "metadata": {},
   "outputs": [],
   "source": [
    "# Réglages environnementaux divers\n",
    "\n",
    "## Facteurs d'émission pour l'électricité par décennie (valeur en 2019 : 429 gCO2/kWh)\n",
    "process.parameters.electricity_emission_factor_2030 = 429\n",
    "process.parameters.electricity_emission_factor_2040 = 100\n",
    "process.parameters.electricity_emission_factor_2050 = 100\n",
    "\n",
    "## Part des méthodes de production de l'hydrogène par décennie (le reste étant complété par de la production via du charbon) [%]\n",
    "### Répartition en 2019 : Gaz sans CCS (71%), Charbon sans CCS (27%), Electrolyse (2%), Autres avec CCS (0%)\n",
    "process.parameters.hydrogen_electrolysis_share_2030: float = 2.0\n",
    "process.parameters.hydrogen_electrolysis_share_2040: float = 2.0\n",
    "process.parameters.hydrogen_electrolysis_share_2050: float = 2.0\n",
    "process.parameters.hydrogen_gas_ccs_share_2030: float = 0.0\n",
    "process.parameters.hydrogen_gas_ccs_share_2040: float = 0.0\n",
    "process.parameters.hydrogen_gas_ccs_share_2050: float = 0.0\n",
    "process.parameters.hydrogen_coal_ccs_share_2030: float = 0.0\n",
    "process.parameters.hydrogen_coal_ccs_share_2040: float = 0.0\n",
    "process.parameters.hydrogen_coal_ccs_share_2050: float = 0.0\n",
    "process.parameters.hydrogen_gas_share_2030: float = 71.0\n",
    "process.parameters.hydrogen_gas_share_2040: float = 71.0\n",
    "process.parameters.hydrogen_gas_share_2050: float = 71.0"
   ]
  },
  {
   "cell_type": "code",
   "execution_count": null,
   "id": "6621e9ff-110e-414f-866a-4adfd55d7a4d",
   "metadata": {},
   "outputs": [],
   "source": [
    "process.compute()"
   ]
  },
  {
   "cell_type": "code",
   "execution_count": null,
   "id": "9b828168-ff69-481b-9d9b-6f1c36da84ab",
   "metadata": {},
   "outputs": [],
   "source": [
    "# Pour afficher les résultats en détail\n",
    "# process.df # To print output vectors\n",
    "# process.float_outputs # To print output float"
   ]
  },
  {
   "cell_type": "code",
   "execution_count": null,
   "id": "f32f3800-e03a-4052-9aff-813f9a890f1b",
   "metadata": {},
   "outputs": [],
   "source": [
    "process.plot_co2_emissions()"
   ]
  },
  {
   "cell_type": "code",
   "execution_count": null,
   "id": "67759e9a-1113-4db5-8a10-337a11bcbc35",
   "metadata": {},
   "outputs": [],
   "source": [
    "process.plot_radar_plot()\n",
    "\n",
    "# Pour afficher plus en détail les différentes limites environnementales\n",
    "# process.plot_carbon_budget()\n",
    "# process.plot_equivalent_carbon_budget()\n",
    "# process.plot_biomass_budget()\n",
    "# process.plot_electricity_budget()"
   ]
  },
  {
   "cell_type": "code",
   "execution_count": null,
   "id": "494365f2-8180-4dbc-8d07-d50d41b325e2",
   "metadata": {},
   "outputs": [],
   "source": [
    "process.plot_emission_factor_per_fuel()"
   ]
  },
  {
   "cell_type": "markdown",
   "id": "5dcba251-c2a5-4671-8fb1-47c61cdb7a8b",
   "metadata": {},
   "source": [
    "-----\n",
    "-----\n",
    "## 3. Analyse de sensibilité et commentaires\n",
    "<a id=\"3\"></a>\n",
    "\n",
    "L'objectif de cette dernière partie est de corriger et d'améliorer votre scénario. Vous devez réaliser des analyses de sensibilité sur différentes variables pour obtenir des scénarios durables pour l'aviation.\n",
    "\n",
    "Justifiez et détaillez votre démarche. Commentez les résultats que vous obtenez."
   ]
  },
  {
   "cell_type": "markdown",
   "id": "d51950aa-1f39-49da-bc71-1f6401d0df4d",
   "metadata": {},
   "source": [
    "> **Réponses**"
   ]
  },
  {
   "cell_type": "markdown",
   "id": "054fadb2-2b98-4b4a-b697-b13bc68284f8",
   "metadata": {},
   "source": [
    "Pour terminer, choisissez, parmi tous les scénarios que vous avez pu développer, un scénario durable pour l'aviation que vous présenterez aux autres étudiants. Vous devrez présenter les hypothèses mondiales globales (objectif de température, capture et stockage de carbone, mix électrique...), la trajectoire des émissions de CO<sub>2</sub>, la part du budget carbone consommé correspondante et les consommations énergétiques avec les parts allouées correspondantes pour la biomasse et l'électricité. Même si des leviers ne sont pas considérés dans ces scénarios, vous pouvez aussi analyser les résultats en terme de température via les émissions équivalentes,"
   ]
  },
  {
   "cell_type": "markdown",
   "id": "6113de58-26e5-4766-82c5-999cab513a02",
   "metadata": {},
   "source": [
    "> **Réponses**"
   ]
  },
  {
   "cell_type": "code",
   "execution_count": null,
   "id": "16c964da-deb6-414a-9f9e-534253a7c460",
   "metadata": {},
   "outputs": [],
   "source": []
  }
 ],
 "metadata": {
  "kernelspec": {
   "display_name": "Python 3 (ipykernel)",
   "language": "python",
   "name": "python3"
  },
  "language_info": {
   "codemirror_mode": {
    "name": "ipython",
    "version": 3
   },
   "file_extension": ".py",
   "mimetype": "text/x-python",
   "name": "python",
   "nbconvert_exporter": "python",
   "pygments_lexer": "ipython3",
   "version": "3.8.15"
  }
 },
 "nbformat": 4,
 "nbformat_minor": 5
}
