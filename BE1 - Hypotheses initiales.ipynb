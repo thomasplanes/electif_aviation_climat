{
 "cells": [
  {
   "cell_type": "markdown",
   "metadata": {},
   "source": [
    "# **Partie 1 : Choix d'un récit pour l'aviation du futur**\n",
    "<a id=\"10\"></a>\n",
    "\n",
    "Suite à la fresque de l'aéronautique que vous venez de suivre, vous devez imaginer un récit pour l'aviation durable de demain, qui vous servira de base pour réaliser un scénario prospectif initial. L'objectif de ce Notebook est de récapituler les choix que vous avez fait concernant les différents enjeux de l'aviation.\n",
    "\n",
    "-----\n",
    "-----\n",
    "\n",
    "Remplissez le tableau pour les choix suivants en complétant directement le code.\n",
    "\n",
    "- L'objectif raisonnable pour vous est de vivre dans un monde avec une élévation de température de : 1,5 - 1,6 - 1,7 - 1,8 - 1,9 - 2°C\n",
    "\n",
    "- Vous souhaitez que cet objectif soit réalisé avec le pourcentage de réussite suivant : 33% - 50% (correspond aux valeurs médianes des études scientifiques) - 67%\n",
    "\n",
    "- Dans ce monde, l'évolution du trafic aérien entre 2020 et 2050 sera en : Baisse (exemple : -3%/an) - Stagnation (0%/an) - Augmentation (exemple : 3%/an)\n",
    "\n",
    "- L'aviation étant un secteur complexe (difficile à décarboner, utilisé par une faible part de la population, importance sur l'économie et sur l'emploi...), quelles seront les spécificités qui lui seront demandées lors de sa transition ? Des efforts plus importants que les autres secteurs (exemple : 2% du budget carbone) - Des efforts équivalents à l'ensemble des secteurs (2,6% du budget carbone) - Des marges de manoeuvre par rapport aux autres secteurs (3,2% du budget carbone)"
   ]
  },
  {
   "cell_type": "code",
   "execution_count": 1,
   "metadata": {
    "tags": []
   },
   "outputs": [
    {
     "ename": "ModuleNotFoundError",
     "evalue": "No module named 'ipysheet'",
     "output_type": "error",
     "traceback": [
      "\u001b[0;31m---------------------------------------------------------------------------\u001b[0m",
      "\u001b[0;31mModuleNotFoundError\u001b[0m                       Traceback (most recent call last)",
      "\u001b[0;32m<ipython-input-1-639613ae311b>\u001b[0m in \u001b[0;36m<module>\u001b[0;34m\u001b[0m\n\u001b[0;32m----> 1\u001b[0;31m \u001b[0;32mimport\u001b[0m \u001b[0mipysheet\u001b[0m\u001b[0;34m\u001b[0m\u001b[0;34m\u001b[0m\u001b[0m\n\u001b[0m\u001b[1;32m      2\u001b[0m \u001b[0;32mfrom\u001b[0m \u001b[0mipysheet\u001b[0m \u001b[0;32mimport\u001b[0m \u001b[0msheet\u001b[0m\u001b[0;34m,\u001b[0m \u001b[0mcell\u001b[0m\u001b[0;34m,\u001b[0m \u001b[0mto_dataframe\u001b[0m\u001b[0;34m\u001b[0m\u001b[0;34m\u001b[0m\u001b[0m\n\u001b[1;32m      3\u001b[0m \u001b[0;34m\u001b[0m\u001b[0m\n\u001b[1;32m      4\u001b[0m \u001b[0mChoix\u001b[0m \u001b[0;34m=\u001b[0m \u001b[0msheet\u001b[0m\u001b[0;34m(\u001b[0m\u001b[0mrows\u001b[0m\u001b[0;34m=\u001b[0m\u001b[0;36m2\u001b[0m\u001b[0;34m,\u001b[0m \u001b[0mcolumns\u001b[0m\u001b[0;34m=\u001b[0m\u001b[0;36m4\u001b[0m\u001b[0;34m)\u001b[0m\u001b[0;34m\u001b[0m\u001b[0;34m\u001b[0m\u001b[0m\n\u001b[1;32m      5\u001b[0m \u001b[0;34m\u001b[0m\u001b[0m\n",
      "\u001b[0;31mModuleNotFoundError\u001b[0m: No module named 'ipysheet'"
     ]
    }
   ],
   "source": [
    "import ipysheet\n",
    "from ipysheet import sheet, cell, to_dataframe\n",
    "\n",
    "Choix = sheet(rows=2, columns=4)\n",
    "\n",
    "cell(0,0,\"Température objectif\", color=\"white\", background_color=\"grey\");\n",
    "cell(0,1,\"Pourcentage de réussite\", color=\"white\", background_color=\"grey\");\n",
    "cell(0,2,\"Taux de (dé)croissance annuel du trafic aérien\", color=\"white\", background_color=\"grey\");\n",
    "cell(0,3,\"Part du budget carbone mondial allouée à l'aviation\", color=\"white\", background_color=\"grey\");\n",
    "\n",
    "cell(1,0,\"\");\n",
    "cell(1,1,\"\");\n",
    "cell(1,2,\"\");\n",
    "cell(1,3,\"\");"
   ]
  },
  {
   "cell_type": "code",
   "execution_count": null,
   "metadata": {},
   "outputs": [],
   "source": [
    "Choix"
   ]
  },
  {
   "cell_type": "code",
   "execution_count": null,
   "metadata": {},
   "outputs": [],
   "source": []
  }
 ],
 "metadata": {
  "kernelspec": {
   "display_name": "Python 3",
   "language": "python",
   "name": "python3"
  },
  "language_info": {
   "codemirror_mode": {
    "name": "ipython",
    "version": 3
   },
   "file_extension": ".py",
   "mimetype": "text/x-python",
   "name": "python",
   "nbconvert_exporter": "python",
   "pygments_lexer": "ipython3",
   "version": "3.7.4"
  }
 },
 "nbformat": 4,
 "nbformat_minor": 5
}
